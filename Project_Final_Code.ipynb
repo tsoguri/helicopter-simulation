{
 "cells": [
  {
   "cell_type": "markdown",
   "metadata": {
    "id": "0mYUHbyrFLN-"
   },
   "source": [
    "# Project: Simulating Helicopter Operations in Upstate New York"
   ]
  },
  {
   "cell_type": "markdown",
   "metadata": {
    "id": "vYDxI4p1FLOB"
   },
   "source": [
    "## Installing Classes"
   ]
  },
  {
   "cell_type": "code",
   "execution_count": 3,
   "metadata": {
    "colab": {
     "base_uri": "https://localhost:8080/"
    },
    "executionInfo": {
     "elapsed": 3190,
     "status": "ok",
     "timestamp": 1638636877390,
     "user": {
      "displayName": "Madeline Aptman",
      "photoUrl": "https://lh3.googleusercontent.com/a/default-user=s64",
      "userId": "08665275218027424190"
     },
     "user_tz": 300
    },
    "id": "XIl22GtFFLOC",
    "outputId": "7d12388b-e3ef-4686-9fc6-a366223dc62e",
    "scrolled": true
   },
   "outputs": [
    {
     "name": "stdout",
     "output_type": "stream",
     "text": [
      "Requirement already satisfied: haversine in /opt/anaconda3/lib/python3.8/site-packages (2.5.1)\n",
      "Note: you may need to restart the kernel to use updated packages.\n"
     ]
    }
   ],
   "source": [
    "pip install haversine"
   ]
  },
  {
   "cell_type": "code",
   "execution_count": 4,
   "metadata": {
    "executionInfo": {
     "elapsed": 192,
     "status": "ok",
     "timestamp": 1638636877569,
     "user": {
      "displayName": "Madeline Aptman",
      "photoUrl": "https://lh3.googleusercontent.com/a/default-user=s64",
      "userId": "08665275218027424190"
     },
     "user_tz": 300
    },
    "id": "PF1gTZfFFLOE"
   },
   "outputs": [],
   "source": [
    "import numpy as np\n",
    "import pandas as pd\n",
    "import scipy \n",
    "import scipy.stats as scs\n",
    "from haversine import haversine\n",
    "import matplotlib.pyplot as plt\n",
    "import math\n",
    "from itertools import combinations_with_replacement, combinations"
   ]
  },
  {
   "cell_type": "markdown",
   "metadata": {
    "id": "hfqwGFKrFLOE"
   },
   "source": [
    "## Random Number Generating Functions"
   ]
  },
  {
   "cell_type": "code",
   "execution_count": 5,
   "metadata": {
    "executionInfo": {
     "elapsed": 169,
     "status": "ok",
     "timestamp": 1638636877735,
     "user": {
      "displayName": "Madeline Aptman",
      "photoUrl": "https://lh3.googleusercontent.com/a/default-user=s64",
      "userId": "08665275218027424190"
     },
     "user_tz": 300
    },
    "id": "gdcuJuS-FLOF"
   },
   "outputs": [],
   "source": [
    "# determine whether it is safe to fly\n",
    "# it will be unsafe to fly with a probability of 0.101\n",
    "# outputs: binary 1 or 0\n",
    "def generate_safe():\n",
    "    rand = np.random.uniform(0,1)\n",
    "    if rand > 0.101:\n",
    "        return 1\n",
    "    else:\n",
    "        return 0"
   ]
  },
  {
   "cell_type": "code",
   "execution_count": 6,
   "metadata": {
    "executionInfo": {
     "elapsed": 10,
     "status": "ok",
     "timestamp": 1638636877735,
     "user": {
      "displayName": "Madeline Aptman",
      "photoUrl": "https://lh3.googleusercontent.com/a/default-user=s64",
      "userId": "08665275218027424190"
     },
     "user_tz": 300
    },
    "id": "UgzbXegfFLOG"
   },
   "outputs": [],
   "source": [
    "# generate a cancellation time for the customer based on an exponential distribution with mean=4.87 hrs\n",
    "# outputs: float \n",
    "def generate_cancel_time():\n",
    "    return np.random.exponential(4.87) # in hours"
   ]
  },
  {
   "cell_type": "code",
   "execution_count": 7,
   "metadata": {},
   "outputs": [],
   "source": [
    "#mean is shape*scale, variance is shape*scale^2\n",
    "#alpha and beta for beta dist calculated from mean & variance of gamma dist\n",
    "def generate_beta_params_from_gamma(shape,scale):\n",
    "    mean= shape*scale\n",
    "    var= shape*scale*scale\n",
    "    alpha= ((1-mean)/var+1/mean)*mean*mean\n",
    "    beta= alpha*(1/mean-1)\n",
    "    return alpha, beta"
   ]
  },
  {
   "cell_type": "code",
   "execution_count": 8,
   "metadata": {
    "executionInfo": {
     "elapsed": 10,
     "status": "ok",
     "timestamp": 1638636877736,
     "user": {
      "displayName": "Madeline Aptman",
      "photoUrl": "https://lh3.googleusercontent.com/a/default-user=s64",
      "userId": "08665275218027424190"
     },
     "user_tz": 300
    },
    "id": "s0hb5LmdFLOG"
   },
   "outputs": [],
   "source": [
    "# generate time a helicopter spends at a scene based on a gamma distribution with shape=2.95hrs scale=0.12\n",
    "# outputs: float \n",
    "#default is gamma distribution\n",
    "def generate_scene_time(dist= \"gamma\"):\n",
    "    shape_1= 2.95\n",
    "    scale_1= 0.12\n",
    "    alpha_1, beta_1=generate_beta_params_from_gamma(shape_1,scale_1)\n",
    "    if dist==\"beta\":\n",
    "        return np.random.beta(a=alpha_1,b=beta_1)\n",
    "    else:\n",
    "        return np.random.gamma(shape=shape_1,scale=scale_1) #in hours"
   ]
  },
  {
   "cell_type": "code",
   "execution_count": 9,
   "metadata": {
    "executionInfo": {
     "elapsed": 9,
     "status": "ok",
     "timestamp": 1638636877736,
     "user": {
      "displayName": "Madeline Aptman",
      "photoUrl": "https://lh3.googleusercontent.com/a/default-user=s64",
      "userId": "08665275218027424190"
     },
     "user_tz": 300
    },
    "id": "BnK-rYmTFLOH"
   },
   "outputs": [],
   "source": [
    "# generate time a helicopter spends at a hospital based on a gamma distribution with shape=2.91hrs scale=0.17\n",
    "# outputs: float \n",
    "#default is gamma distribtuion\n",
    "def generate_hosp_time(dist= \"gamma\"):\n",
    "    shape_2=2.91\n",
    "    scale_2=0.17\n",
    "    alpha_2, beta_2=generate_beta_params_from_gamma(shape_2,scale_2)\n",
    "    if dist==\"beta\":\n",
    "        return np.random.beta(a=alpha_2,b=beta_2)\n",
    "    else:\n",
    "        return np.random.gamma(shape=shape_2, scale=scale_2) #in hours"
   ]
  },
  {
   "cell_type": "code",
   "execution_count": 10,
   "metadata": {
    "executionInfo": {
     "elapsed": 8,
     "status": "ok",
     "timestamp": 1638636877736,
     "user": {
      "displayName": "Madeline Aptman",
      "photoUrl": "https://lh3.googleusercontent.com/a/default-user=s64",
      "userId": "08665275218027424190"
     },
     "user_tz": 300
    },
    "id": "iZ-e5cKCFLOH"
   },
   "outputs": [],
   "source": [
    "# helper function for generate_hosp_loc\n",
    "# find the distances between location x and all of the hospitals/trauma centers\n",
    "# inputs\n",
    "    # x: [lat, lon] of a location, float array\n",
    "    # hosps: dictionary of hospital names and locations (key: hospital name (string), value: [lat, lon] (float array))\n",
    "# outputs: dictionary of hospital names and the distances to location x (key: hospital name (string), value: distance (float))\n",
    "def find_hosp_dist(x):\n",
    "    hosp_latlon = list(hosps.values())\n",
    "    hosp_name = list(hosps.keys())\n",
    "    d = {}\n",
    "    for i in range(len(hosps)):\n",
    "        name = hosp_name[i]\n",
    "        d[name] = haversine((x[0], x[1]), (hosp_latlon[i][0], hosp_latlon[i][1]))\n",
    "    return d"
   ]
  },
  {
   "cell_type": "code",
   "execution_count": 11,
   "metadata": {
    "executionInfo": {
     "elapsed": 9,
     "status": "ok",
     "timestamp": 1638636877737,
     "user": {
      "displayName": "Madeline Aptman",
      "photoUrl": "https://lh3.googleusercontent.com/a/default-user=s64",
      "userId": "08665275218027424190"
     },
     "user_tz": 300
    },
    "id": "IaNjvRGQFLOI"
   },
   "outputs": [],
   "source": [
    "# generates the location of the hospital/trauma center that the call will go to \n",
    "#inputs\n",
    "    # x: [lat, lon] of call location, float array \n",
    "    # hosps: dictionary of hospital names and locations (key: hospital name (string), value: [lat, lon] (float array))\n",
    "#output: location\n",
    "#commented output: name of hospital, location, distance\n",
    "def generate_hosp_loc(x): \n",
    "    hosp_dist = find_hosp_dist(x)\n",
    "    sorted_hdist = {k: v for k, v in sorted(hosp_dist.items(), key=lambda item: item[1])}\n",
    "    \n",
    "    hosp_list = list(sorted_hdist.keys())\n",
    "    hosp_dist = list(sorted_hdist.values())\n",
    "    first_hosp = hosp_list[0]\n",
    "    first_hosp_dist = hosp_dist[0]\n",
    "    \n",
    "    trauma = ['Sarye', 'Albany', 'Syracuse', 'Rochester']\n",
    "    \n",
    "    if first_hosp in trauma:\n",
    "        return hosps[first_hosp]\n",
    "        #return first_hosp, hosps[first_hosp], first_hosp_dist\n",
    "    else:\n",
    "        rand = np.random.uniform(0,1)\n",
    "        if rand <= 0.807:\n",
    "            return hosps[first_hosp]\n",
    "            #return first_hosp, hosps[first_hosp], first_hosp_dist\n",
    "        else:\n",
    "            i = 0\n",
    "            while hosp_list[i] not in ['Sarye', 'Albany', 'Syracuse', 'Rochester']:\n",
    "                i += 1\n",
    "            first_trauma = hosp_list[i] \n",
    "            first_trauma_dist = hosp_dist[i]\n",
    "            return hosps[first_trauma]\n",
    "            #return first_trauma, hosps[first_trauma], first_trauma_dist     "
   ]
  },
  {
   "cell_type": "code",
   "execution_count": 12,
   "metadata": {
    "executionInfo": {
     "elapsed": 8,
     "status": "ok",
     "timestamp": 1638636877737,
     "user": {
      "displayName": "Madeline Aptman",
      "photoUrl": "https://lh3.googleusercontent.com/a/default-user=s64",
      "userId": "08665275218027424190"
     },
     "user_tz": 300
    },
    "id": "vVnUK3jbFLOI"
   },
   "outputs": [],
   "source": [
    "# generate interarrival times between calls based on an exponential distribution with specific rates/means based on the current hour\n",
    "# inputs\n",
    "    # hour: float\n",
    "    # call_rates: dictionary of hours and their respective call rates (key: hour (int), value: rate (float))\n",
    "# outputs: float \n",
    "def generate_call_time(hour):\n",
    "    hour = hour % 24\n",
    "    if hour == 0:\n",
    "        hour = 1\n",
    "    ceil_hour = math.ceil(hour)\n",
    "    rate = call_rates[ceil_hour]\n",
    "    return np.random.exponential(rate) #in hours"
   ]
  },
  {
   "cell_type": "code",
   "execution_count": 13,
   "metadata": {
    "executionInfo": {
     "elapsed": 8,
     "status": "ok",
     "timestamp": 1638636877738,
     "user": {
      "displayName": "Madeline Aptman",
      "photoUrl": "https://lh3.googleusercontent.com/a/default-user=s64",
      "userId": "08665275218027424190"
     },
     "user_tz": 300
    },
    "id": "0V70OGhYFLOI"
   },
   "outputs": [],
   "source": [
    "# generate dispatch delay times based on a triangular distribution with min=5min, common=7min, max=10min\n",
    "def generate_dispatch_delay():\n",
    "    return np.random.triangular(5,7,10)/60 # in hours"
   ]
  },
  {
   "cell_type": "code",
   "execution_count": 14,
   "metadata": {
    "executionInfo": {
     "elapsed": 8,
     "status": "ok",
     "timestamp": 1638636877738,
     "user": {
      "displayName": "Madeline Aptman",
      "photoUrl": "https://lh3.googleusercontent.com/a/default-user=s64",
      "userId": "08665275218027424190"
     },
     "user_tz": 300
    },
    "id": "OHQZGq8eFLOJ"
   },
   "outputs": [],
   "source": [
    "# generate flight delay times based on a triangular distribution with min=5min, common=7.5min, max=10min\n",
    "def generate_flight_delay():\n",
    "    return np.random.triangular(5, 7.5, 10)/60 #in hours"
   ]
  },
  {
   "cell_type": "code",
   "execution_count": 15,
   "metadata": {
    "colab": {
     "base_uri": "https://localhost:8080/",
     "height": 455
    },
    "executionInfo": {
     "elapsed": 520,
     "status": "error",
     "timestamp": 1638636878250,
     "user": {
      "displayName": "Madeline Aptman",
      "photoUrl": "https://lh3.googleusercontent.com/a/default-user=s64",
      "userId": "08665275218027424190"
     },
     "user_tz": 300
    },
    "id": "Hrt9-FsnFLOJ",
    "outputId": "430b4790-00f7-4bf3-8888-90675624021c",
    "scrolled": false
   },
   "outputs": [],
   "source": [
    "df = pd.read_csv('ProjectData.csv')\n",
    "df_lat = df['Lat']\n",
    "df_lon = df['Lon']"
   ]
  },
  {
   "cell_type": "code",
   "execution_count": 16,
   "metadata": {
    "executionInfo": {
     "elapsed": 191,
     "status": "aborted",
     "timestamp": 1638636878094,
     "user": {
      "displayName": "Madeline Aptman",
      "photoUrl": "https://lh3.googleusercontent.com/a/default-user=s64",
      "userId": "08665275218027424190"
     },
     "user_tz": 300
    },
    "id": "26nEh3WT3uBh"
   },
   "outputs": [],
   "source": [
    "# generate call location by resampling from the ProjectData.csv data \n",
    "def generate_call_loc():\n",
    "    lat_rand = math.floor(np.random.uniform(0, len(df_lat)))\n",
    "    lon_rand = math.floor(np.random.uniform(0, len(df_lon)))\n",
    "    return [df_lat[lat_rand], df_lon[lon_rand]]"
   ]
  },
  {
   "cell_type": "markdown",
   "metadata": {
    "id": "Fv83LcYbFLOL"
   },
   "source": [
    "## Constants"
   ]
  },
  {
   "cell_type": "code",
   "execution_count": 17,
   "metadata": {
    "executionInfo": {
     "elapsed": 192,
     "status": "aborted",
     "timestamp": 1638636878095,
     "user": {
      "displayName": "Madeline Aptman",
      "photoUrl": "https://lh3.googleusercontent.com/a/default-user=s64",
      "userId": "08665275218027424190"
     },
     "user_tz": 300
    },
    "id": "BTLaCYGVFLOL"
   },
   "outputs": [],
   "source": [
    "call_rates = {1:0.723, \n",
    "                 2:0.618, \n",
    "                 3:0.374,\n",
    "                 4:0.319, \n",
    "                 5:0.266,\n",
    "                 6:0.277,\n",
    "                 7:0.489, \n",
    "                 8:0.777,\n",
    "                 9:1.70,\n",
    "                 10:2.75, \n",
    "                 11:3.19,\n",
    "                 12:3.72,\n",
    "                 13:3.96,\n",
    "                 14:3.67,\n",
    "                 15:3.81,\n",
    "                 16:3.68,\n",
    "                 17:3.56,\n",
    "                 18:3.20,\n",
    "                 19:3.05,\n",
    "                 20:2.28,\n",
    "                 21:1.40,\n",
    "                 22:1.17,\n",
    "                 23:0.881,\n",
    "                 24:0.813}"
   ]
  },
  {
   "cell_type": "code",
   "execution_count": 18,
   "metadata": {
    "executionInfo": {
     "elapsed": 192,
     "status": "aborted",
     "timestamp": 1638636878095,
     "user": {
      "displayName": "Madeline Aptman",
      "photoUrl": "https://lh3.googleusercontent.com/a/default-user=s64",
      "userId": "08665275218027424190"
     },
     "user_tz": 300
    },
    "id": "-v_eKtwhFLOM"
   },
   "outputs": [],
   "source": [
    "hosps = {'Sarye': [41.979, 76.5155],\n",
    "        'Albany': [42.6526, 73.7562], \n",
    "        'Syracuse': [43.0481, 76.1474], \n",
    "        'Rochester': [43.1566, 77.6088], \n",
    "        'A': [42.0898, 76.8077],\n",
    "        'B': [42.0987, 75.918], \n",
    "        'C': [42.444, 76.5019],\n",
    "        'D': [42.8864, 78.8784], \n",
    "        'E': [43.1009, 75.2327], \n",
    "        'F': [43.9748, 75.9108]}"
   ]
  },
  {
   "cell_type": "markdown",
   "metadata": {
    "id": "DTzYn_RAOKgC"
   },
   "source": [
    "## Helper Functions"
   ]
  },
  {
   "cell_type": "code",
   "execution_count": 19,
   "metadata": {
    "executionInfo": {
     "elapsed": 191,
     "status": "aborted",
     "timestamp": 1638636878095,
     "user": {
      "displayName": "Madeline Aptman",
      "photoUrl": "https://lh3.googleusercontent.com/a/default-user=s64",
      "userId": "08665275218027424190"
     },
     "user_tz": 300
    },
    "id": "acSpDvd86TgJ"
   },
   "outputs": [],
   "source": [
    "# generates and returns a call instance\n",
    "def generate_call(t):\n",
    "    call_loc = generate_call_loc()\n",
    "    y = { 'Location': call_loc, #random call location\n",
    "          'Safe': generate_safe(), #randomly determines whether its safe or not\n",
    "          'HeliIdx': -1, #-1 means it has not been assigned a helicopter, otherwise corresponds to index in helicopter list X\n",
    "          'CancellationTime': t + generate_cancel_time(), #randomly generated cancellation time\n",
    "          'HospDest': generate_hosp_loc(call_loc), #randomly generated hospital destination \n",
    "          'CallTime': t, #time the call was generated\n",
    "          'LeftBase': t, #time the helicopter left the base - will update within simulation code \n",
    "          'ArrivedAtScene': t,  #time the helicopter arrived at the scene - will update within simulation code \n",
    "          'ArrivedAtHosp': t  #time the helicopter arrived at the hospital - will update within simulation code \n",
    "         }\n",
    "    return y"
   ]
  },
  {
   "cell_type": "code",
   "execution_count": 20,
   "metadata": {
    "executionInfo": {
     "elapsed": 192,
     "status": "aborted",
     "timestamp": 1638636878096,
     "user": {
      "displayName": "Madeline Aptman",
      "photoUrl": "https://lh3.googleusercontent.com/a/default-user=s64",
      "userId": "08665275218027424190"
     },
     "user_tz": 300
    },
    "id": "T4ts6SAGFp2s"
   },
   "outputs": [],
   "source": [
    "# finds the nearest available helicopter in helicopter list X based on call y \n",
    "# inputs\n",
    "    # X: helicopter instance list\n",
    "    # y: call instance\n",
    "# output: index of helicopter in X\n",
    "def find_avail(X, y):\n",
    "    closest_dist = 200\n",
    "    closest_idx = -1\n",
    "    for i in range(len(X)):\n",
    "        heli = X[i]\n",
    "        call_loc = y['Location']\n",
    "        base_loc = X[i]['Base']\n",
    "        travel_dist = haversine(base_loc, call_loc)\n",
    "        if heli['HeliAvail'] == 1 and travel_dist < 180 and travel_dist < closest_dist: \n",
    "            closest_dist = travel_dist\n",
    "            closest_idx = i\n",
    "    return closest_idx"
   ]
  },
  {
   "cell_type": "code",
   "execution_count": 21,
   "metadata": {
    "executionInfo": {
     "elapsed": 192,
     "status": "aborted",
     "timestamp": 1638636878096,
     "user": {
      "displayName": "Madeline Aptman",
      "photoUrl": "https://lh3.googleusercontent.com/a/default-user=s64",
      "userId": "08665275218027424190"
     },
     "user_tz": 300
    },
    "id": "rARqZaz35Sag"
   },
   "outputs": [],
   "source": [
    "# finds the nearest available helicopter for call y and assigns it to the call\n",
    "def assign_heli(X, y):\n",
    "    heli_idx = find_avail(X, y)\n",
    "    X[heli_idx]['HeliAvail'] = 0 #0 means helicopter is not available anymore \n",
    "    y['HeliIdx'] = heli_idx \n",
    "    X[heli_idx]['Process'] = 1 #process of 1 means its at flight check\n",
    "    return X, heli_idx"
   ]
  },
  {
   "cell_type": "code",
   "execution_count": 22,
   "metadata": {
    "executionInfo": {
     "elapsed": 193,
     "status": "aborted",
     "timestamp": 1638636878097,
     "user": {
      "displayName": "Madeline Aptman",
      "photoUrl": "https://lh3.googleusercontent.com/a/default-user=s64",
      "userId": "08665275218027424190"
     },
     "user_tz": 300
    },
    "id": "whgRi52QOKgD"
   },
   "outputs": [],
   "source": [
    "# finds the index of call y within list Y that is assigned to helicopter with index heli_idx in list X\n",
    "# this helps a lot within the simulation code to find the right call within the list of all of the calls \n",
    "# NOTE: this works, because each helicopter will only appear once in the list Y, helicopters cannot be assigned to 2 calls at once, and once a call is finished it will be deleted from Y\n",
    "def find_y_idx(Y, heli_idx):\n",
    "    for i in range(len(Y)):\n",
    "        y = Y[i]\n",
    "        if y['HeliIdx'] == heli_idx:\n",
    "            return i\n",
    "    return None"
   ]
  },
  {
   "cell_type": "code",
   "execution_count": 23,
   "metadata": {
    "executionInfo": {
     "elapsed": 193,
     "status": "aborted",
     "timestamp": 1638636878097,
     "user": {
      "displayName": "Madeline Aptman",
      "photoUrl": "https://lh3.googleusercontent.com/a/default-user=s64",
      "userId": "08665275218027424190"
     },
     "user_tz": 300
    },
    "id": "dZE6yhpKOKgD"
   },
   "outputs": [],
   "source": [
    "# finds the index of event e within list events that is assigned to helicopter with index heli_idx in list X\n",
    "# this helps a lot within the simulation code to find the right event within the list of all of the events \n",
    "# NOTE: this works, because each helicopter will only appear once in the event list, helicopters cannot be assigned to 2 calls at once, there will only be one event for a call in the event list at all times, and once a event is finished it will be deleted from the event list\n",
    "def find_evnt_idx(events, heli_idx, label):\n",
    "    for i in range(len(events)):\n",
    "        e = events[i]\n",
    "        if e[2] == heli_idx and e[1] == label:\n",
    "            return i\n",
    "    return None"
   ]
  },
  {
   "cell_type": "code",
   "execution_count": 24,
   "metadata": {
    "executionInfo": {
     "elapsed": 193,
     "status": "aborted",
     "timestamp": 1638636878097,
     "user": {
      "displayName": "Madeline Aptman",
      "photoUrl": "https://lh3.googleusercontent.com/a/default-user=s64",
      "userId": "08665275218027424190"
     },
     "user_tz": 300
    },
    "id": "leKYYUGrOKgE"
   },
   "outputs": [],
   "source": [
    "# generates a list of helicopter instances\n",
    "def generate_helis(base_locs):\n",
    "    X = []\n",
    "    for base in base_locs:\n",
    "        x = {'HeliAvail': 1,\n",
    "             'Process': 0,\n",
    "             'Location': base,\n",
    "             'Base': base,\n",
    "             'NumTransported': 0,\n",
    "            'LeftBase': -1}\n",
    "        X.append(x)\n",
    "    return X\n",
    "\n",
    "\n",
    "# process numbers\n",
    "# 0: waiting to be assigned at base\n",
    "# 1: at flight check\n",
    "# 2: en-route to scene\n",
    "# 3: on scene\n",
    "# 4: en-route to hospital\n",
    "# 5: at hospital\n",
    "# 6: en-route to base"
   ]
  },
  {
   "cell_type": "markdown",
   "metadata": {
    "id": "ApDPhD0bSzh_"
   },
   "source": [
    "NOTE: certain attributes, like the helicopter's `Process`, `LeftBase`, `Location `or a call's `LeftBase`, `ArrivedAtScene`, `ArrivedAtHosp` are not necessary, but help with debugging!"
   ]
  },
  {
   "cell_type": "markdown",
   "metadata": {
    "id": "kIRUy9ItaJlH"
   },
   "source": [
    "## Simulation"
   ]
  },
  {
   "cell_type": "markdown",
   "metadata": {
    "id": "T2mjtcWuFLOM"
   },
   "source": [
    "### Simulation Code"
   ]
  },
  {
   "cell_type": "code",
   "execution_count": 47,
   "metadata": {
    "executionInfo": {
     "elapsed": 14,
     "status": "aborted",
     "timestamp": 1638636878098,
     "user": {
      "displayName": "Madeline Aptman",
      "photoUrl": "https://lh3.googleusercontent.com/a/default-user=s64",
      "userId": "08665275218027424190"
     },
     "user_tz": 300
    },
    "id": "XeHyiUh-Zkg5"
   },
   "outputs": [],
   "source": [
    "def simulate(base_locs, end_time, warmup, num_batches, conf, hosp= \"gamma\", scene= \"gamma\"):\n",
    "\n",
    "    dispatch_rate = []\n",
    "    cancel_rate = []\n",
    "    response_rate = []\n",
    "    heli_util = []\n",
    "    avg_response_time = [] \n",
    "    \n",
    "    run_length = (end_time - warmup)/num_batches\n",
    "    current_batch = 0\n",
    "    \n",
    "    # initialize all variables \n",
    "    X = generate_helis(base_locs)\n",
    "    events = []\n",
    "    Y = []\n",
    "    t = 0\n",
    "    num_calls = 0\n",
    "    num_dispatched = 0\n",
    "    num_response = 0\n",
    "    num_transported = 0\n",
    "    num_cancelled = 0\n",
    "    response_time = []\n",
    "\n",
    "    # first iteration, set up the variables\n",
    "    ct = generate_call_time(t)\n",
    "    t = t + ct\n",
    "\n",
    "    events.append((ct, 'Call Recieved', -1)) \n",
    "    events = events[1:]\n",
    "\n",
    "    y = generate_call(t)\n",
    "    Y.append(y)\n",
    "\n",
    "    dt = generate_dispatch_delay()\n",
    "    events.append((t + dt, 'Dispatch Finished', -1))\n",
    "\n",
    "    ct = generate_call_time(t)\n",
    "    events.append((t + ct, 'Call Received', -1))\n",
    "\n",
    "    events = sorted(events, key=lambda x: x[0])\n",
    "\n",
    "    while t < end_time:\n",
    "        if events[0][1] == 'Call Received': # call is recieved\n",
    "            ct = events[0][0]\n",
    "            t = ct\n",
    "            events = events[1:]\n",
    "\n",
    "            y = generate_call(t)\n",
    "            Y.append(y)\n",
    "            \n",
    "            if (t > warmup):\n",
    "                num_calls += 1\n",
    "\n",
    "            dt = generate_dispatch_delay()\n",
    "            events.append((t + dt, 'Dispatch Finished', -1))\n",
    "\n",
    "            ct = generate_call_time(t)\n",
    "            events.append((t + ct, 'Call Received', -1)) \n",
    "\n",
    "            events = sorted(events, key=lambda x: x[0])\n",
    "\n",
    "\n",
    "        elif events[0][1] == 'Dispatch Finished': # dispach finishes prep, helicopter is assigned\n",
    "            dt = events[0][0]\n",
    "            t = dt\n",
    "            events = events[1:]\n",
    "\n",
    "            y_idx = find_y_idx(Y, -1)\n",
    "            y = Y[y_idx]\n",
    "\n",
    "            if y['Safe']== 1 and y['CancellationTime'] > t and find_avail(X, y) != -1:\n",
    "                X, heli_idx = assign_heli(X, y)\n",
    "                Y[y_idx]['HeliIdx'] = heli_idx\n",
    "\n",
    "                ct = Y[y_idx]['CancellationTime']\n",
    "                events.append((ct, 'Call Cancelled', heli_idx))\n",
    "\n",
    "                dt = generate_flight_delay()\n",
    "                events.append((t + dt, 'Flight Check Finished', heli_idx))\n",
    "                events = sorted(events, key=lambda x: x[0])\n",
    "\n",
    "                if (t > warmup):\n",
    "                    num_dispatched += 1\n",
    "            else:\n",
    "                Y = Y[:y_idx] + Y[(y_idx + 1):]   \n",
    "\n",
    "        elif events[0][1] == 'Flight Check Finished': # flight checks/prep is finished, helicopter leaves base\n",
    "            ft = events[0][0]\n",
    "            t = ft\n",
    "            heli_idx = events[0][2]\n",
    "            events = events[1:]\n",
    "\n",
    "            X[heli_idx]['Process'] = 2\n",
    "            X[heli_idx]['LeftBase'] = t\n",
    "            y_idx = find_y_idx(Y, heli_idx)\n",
    "            y = Y[y_idx]\n",
    "\n",
    "            Y[y_idx]['LeftBase'] = t\n",
    "\n",
    "            call_loc = Y[y_idx]['Location']\n",
    "            base_loc = X[heli_idx]['Base']\n",
    "            travel_dist = haversine(base_loc, call_loc)\n",
    "            travel_time = travel_dist/160\n",
    "\n",
    "            events.append((t + travel_time, 'Arrived at Scene', heli_idx))\n",
    "            events = sorted(events, key=lambda x: x[0])\n",
    "\n",
    "        elif events[0][1] == 'Arrived at Scene': #helicopter arrives at scene, starts treatment\n",
    "            ft = events[0][0]\n",
    "            t = ft\n",
    "            heli_idx = events[0][2]\n",
    "            events = events[1:]\n",
    "\n",
    "            X[heli_idx]['Process'] = 3\n",
    "            y_idx = find_y_idx(Y, heli_idx)\n",
    "            y = Y[y_idx]\n",
    "            call_loc = y['Location']\n",
    "\n",
    "            calltime = y['CallTime']\n",
    "                    \n",
    "            if (t > warmup):\n",
    "                num_response += 1\n",
    "                response_time.append(t - calltime)  \n",
    "\n",
    "            X[heli_idx]['Location'] = call_loc\n",
    "            Y[y_idx]['ArrivedAtScene'] = t\n",
    "\n",
    "            evnt_idx = find_evnt_idx(events, heli_idx, 'Call Cancelled')\n",
    "            events = events[:evnt_idx] + events[(evnt_idx + 1):]\n",
    "\n",
    "            st = generate_scene_time(scene)\n",
    "            events.append((t + st, 'Finished at Scene', heli_idx))\n",
    "            events = sorted(events, key=lambda x: x[0])\n",
    "\n",
    "        elif events[0][1] == 'Finished at Scene': #helicopter finishes treatment at scene, flies to hospital\n",
    "            st = events[0][0] \n",
    "            t = st\n",
    "\n",
    "            heli_idx = events[0][2]\n",
    "            events = events[1:]\n",
    "\n",
    "            X[heli_idx]['Process'] = 4\n",
    "            y_idx = find_y_idx(Y, heli_idx)\n",
    "            y = Y[y_idx]\n",
    "\n",
    "            hospital_loc = y['HospDest']\n",
    "            call_loc = y['Location']\n",
    "\n",
    "            travel_dist = haversine(call_loc, hospital_loc)\n",
    "            travel_time = travel_dist/160\n",
    "\n",
    "            events.append((t + travel_time, 'Arrived at Hospital', heli_idx))\n",
    "\n",
    "            events = sorted(events, key=lambda x: x[0])\n",
    "\n",
    "        elif events[0][1] == 'Arrived at Hospital': #helicopter arrives at hospital, starts hospital unloading\n",
    "            ft = events[0][0]\n",
    "            t = ft\n",
    "            heli_idx = events[0][2]\n",
    "            events = events[1:]\n",
    "\n",
    "            X[heli_idx]['Process'] = 5\n",
    "            y_idx = find_y_idx(Y, heli_idx)\n",
    "            y = Y[y_idx]\n",
    "            Y[y_idx]['ArrivedAtHosp'] = t\n",
    "\n",
    "            hospital_loc = Y[y_idx]['HospDest']\n",
    "            X[heli_idx]['Location'] = hospital_loc\n",
    "\n",
    "            ht = generate_hosp_time(hosp)\n",
    "            events.append((t + ht, 'Finished at Hospital', heli_idx))\n",
    "            events = sorted(events, key=lambda x: x[0])\n",
    "\n",
    "        elif events[0][1] == 'Finished at Hospital': #helicopter leaves hospital, flies back to base\n",
    "            ht = events[0][0]\n",
    "            t = ht\n",
    "            heli_idx = events[0][2]\n",
    "\n",
    "            events = events[1:]\n",
    "\n",
    "            X[heli_idx]['Process'] = 6\n",
    "            y_idx = find_y_idx(Y, heli_idx)\n",
    "            y = Y[y_idx]\n",
    "\n",
    "            hospital_loc = Y[y_idx]['HospDest']\n",
    "            base_loc = X[heli_idx]['Base']\n",
    "            if (t > warmup):\n",
    "                X[heli_idx]['NumTransported'] += 1\n",
    "                num_transported += 1\n",
    "\n",
    "            travel_dist = haversine(hospital_loc, base_loc)\n",
    "            travel_time = travel_dist/160\n",
    "\n",
    "            events.append((t + travel_time, 'Arrived Back at Base', heli_idx))\n",
    "            events = sorted(events, key=lambda x: x[0])\n",
    "            Y = Y[:y_idx] + Y[(y_idx + 1):]\n",
    "\n",
    "        elif events[0][1] == 'Arrived Back at Base': #helicopter arrives at base\n",
    "            bt = events[0][0]\n",
    "            t = bt\n",
    "            heli_idx = events[0][2]\n",
    "            events = events[1:]\n",
    "\n",
    "            X[heli_idx]['Process'] = 0\n",
    "            X[heli_idx]['LeftBase'] = -1\n",
    "            base_loc = X[heli_idx]['Base'] \n",
    "            X[heli_idx]['Location'] = base_loc\n",
    "            X[heli_idx]['HeliAvail'] = 1\n",
    "\n",
    "            events = sorted(events, key=lambda x: x[0])\n",
    "\n",
    "        elif events[0][1] == 'Call Cancelled': #call is cancelled \n",
    "            ct = events[0][0]\n",
    "            t = ct\n",
    "            heli_idx = events[0][2]\n",
    "            events = events[1:]\n",
    "            if (t > warmup):\n",
    "                num_cancelled += 1\n",
    "\n",
    "            y_idx = find_y_idx(Y, heli_idx)\n",
    "            y = Y[y_idx]\n",
    "\n",
    "            process = X[heli_idx]['Process']\n",
    "            location = X[heli_idx]['Location']\n",
    "            left_base = X[heli_idx]['LeftBase']\n",
    "\n",
    "            if left_base != -1:\n",
    "                time_from_base = t - left_base\n",
    "                travelled_dist = time_from_base*160\n",
    "\n",
    "                call_loc = Y[y_idx]['Location']\n",
    "                base_loc = X[heli_idx]['Base']\n",
    "                total_dist = haversine(base_loc, call_loc)\n",
    "\n",
    "                perc_dist = travelled_dist/total_dist\n",
    "                base_to_call = [call_loc[0] - base_loc[0], call_loc[1] - base_loc[1]]\n",
    "                perc_base_to_call = [perc_dist * base_to_call[0], perc_dist * base_to_call[1]]\n",
    "                curr_loc = [base_loc[0] + perc_base_to_call[0], base_loc[1] + perc_base_to_call[1]]\n",
    "\n",
    "                travel_dist = haversine(curr_loc, base_loc)\n",
    "                travel_time = travel_dist/160\n",
    "\n",
    "                evnt_idx = find_evnt_idx(events, heli_idx, 'Arrived at Scene')\n",
    "                events = events[:evnt_idx] + events[(evnt_idx + 1):]\n",
    "\n",
    "                events.append((t + travel_time, 'Arrived Back at Base', heli_idx))\n",
    "                events = sorted(events, key=lambda x: x[0])\n",
    "                Y = Y[:y_idx] + Y[(y_idx + 1):]\n",
    "\n",
    "            else:\n",
    "                X[heli_idx]['Process'] = 0\n",
    "                X[heli_idx]['LeftBase'] = -1\n",
    "                base_loc = X[heli_idx]['Base'] \n",
    "                X[heli_idx]['Location'] = base_loc\n",
    "                X[heli_idx]['HeliAvail'] = 1\n",
    "\n",
    "                evnt_idx = find_evnt_idx(events, heli_idx, 'Flight Check Finished')\n",
    "                events = events[:evnt_idx] + events[(evnt_idx + 1):]\n",
    "\n",
    "                Y = Y[:y_idx] + Y[(y_idx + 1):]\n",
    "                events = sorted(events, key=lambda x: x[0])\n",
    "\n",
    "        else:\n",
    "            print('Unknown event:', events[0][1])\n",
    "            \n",
    "        if (t > warmup and current_batch == 0):\n",
    "            current_batch = 1\n",
    "\n",
    "        if (t > warmup and t >= current_batch*run_length + warmup):\n",
    "            # concatenate helicopter statistics for each batch\n",
    "            if current_batch == 1:\n",
    "                df = pd.DataFrame(X)\n",
    "            else:\n",
    "                df_X = pd.DataFrame(X)\n",
    "                df = pd.concat([df, df_X])\n",
    "                \n",
    "            # calculate metrics for each batch\n",
    "            if (num_calls == 0):\n",
    "                dispatched = 0\n",
    "                responded = 0\n",
    "                cancelled = 0\n",
    "                util = num_transported/len(X)\n",
    "            else:\n",
    "                dispatched = num_dispatched/num_calls\n",
    "                responded = num_response/num_calls\n",
    "                cancelled = num_cancelled/num_calls\n",
    "                util = num_transported/(len(X)*(run_length/24))\n",
    "\n",
    "            if response_time == []:\n",
    "                avg_response = 0\n",
    "            else:\n",
    "                avg_response = sum(response_time)/len(response_time)\n",
    "                \n",
    "                \n",
    "            \n",
    "\n",
    "            # append run metrics to the overall simulation metric lists\n",
    "            dispatch_rate.append(dispatched)\n",
    "            response_rate.append(responded)\n",
    "            cancel_rate.append(cancelled)\n",
    "            heli_util.append(util)\n",
    "            avg_response_time.append(avg_response)\n",
    "            \n",
    "            # reset metrics for each batch\n",
    "            num_calls = 0\n",
    "            num_dispatched = 0\n",
    "            num_response = 0\n",
    "            num_transported = 0\n",
    "            num_cancelled = 0\n",
    "            response_time = []\n",
    "            \n",
    "            current_batch += 1\n",
    "            \n",
    "\n",
    "    if (num_batches == 1):\n",
    "        return [('Dispatch Rate', dispatch_rate[0]), \n",
    "            ('Cancel Rate', cancel_rate[0]), \n",
    "            ('Response Rate', response_rate[0]), \n",
    "            ('Utilization of Helicopters', heli_util[0]), \n",
    "            ('Average Response Time', avg_response_time[0])], df\n",
    "    \n",
    "    else:\n",
    "        # calculate the confidence intervals for each of the metrics\n",
    "        t = scs.t.ppf(conf, num_batches - 1)\n",
    "        confs = []\n",
    "        for rates in [dispatch_rate, cancel_rate, response_rate, heli_util, avg_response_time]:\n",
    "            mean = sum(rates)/len(rates)\n",
    "            var = np.var(rates, ddof=1)\n",
    "            conf = [mean - t*np.sqrt(var)/num_batches, mean + t*np.sqrt(var)/num_batches]\n",
    "            confs.append(conf)\n",
    "\n",
    "        # generate average helicopter statistics \n",
    "        df = df.groupby(df.index).mean()\n",
    "        df['Base'] = base_locs\n",
    "        df.drop('Process', axis=1, inplace=True)\n",
    "        df.drop('LeftBase', axis=1, inplace=True)\n",
    "\n",
    "        return [('Dispatch Rate', confs[0]), \n",
    "                ('Cancel Rate', confs[1]), \n",
    "                ('Response Rate', confs[2]), \n",
    "                ('Utilization of Helicopters', confs[3]), \n",
    "                ('Average Response Time', confs[4])], df,[dispatch_rate, cancel_rate, \n",
    "                                                         response_rate, heli_util, \n",
    "                                                         avg_response_time]"
   ]
  },
  {
   "cell_type": "markdown",
   "metadata": {
    "id": "1kxbSJBAV_FR"
   },
   "source": [
    "### EXAMPLE: How to Call Simulate Function"
   ]
  },
  {
   "cell_type": "code",
   "execution_count": 52,
   "metadata": {
    "executionInfo": {
     "elapsed": 15,
     "status": "aborted",
     "timestamp": 1638636878099,
     "user": {
      "displayName": "Madeline Aptman",
      "photoUrl": "https://lh3.googleusercontent.com/a/default-user=s64",
      "userId": "08665275218027424190"
     },
     "user_tz": 300
    },
    "id": "sPD3dKpbFLOM"
   },
   "outputs": [],
   "source": [
    "#EXAMPLE: simulates 10 base locations of 10 helicopters in base_locs for 365 days, for 26 batches, a warm up of 24 hours, with a confidence interval of 95%\n",
    "base_locs = [\n",
    "    [41.979, 76.5155],\n",
    "    [42.6526, 73.7562],\n",
    "    [43.0481, 76.1474],\n",
    "    [43.1566, 77.6088],\n",
    "    [42.0898, 76.8077],\n",
    "    [42.0987, 75.918],\n",
    "    [42.444, 76.5019],\n",
    "    [42.8864, 78.8784],\n",
    "    [43.1009, 75.2327],\n",
    "    [43.9748, 75.9108]\n",
    "]\n",
    "\n",
    "example = simulate(base_locs, 365*24, 24, 26, 0.975)"
   ]
  },
  {
   "cell_type": "code",
   "execution_count": 53,
   "metadata": {
    "executionInfo": {
     "elapsed": 15,
     "status": "aborted",
     "timestamp": 1638636878099,
     "user": {
      "displayName": "Madeline Aptman",
      "photoUrl": "https://lh3.googleusercontent.com/a/default-user=s64",
      "userId": "08665275218027424190"
     },
     "user_tz": 300
    },
    "id": "6H2i0vxoOKgH"
   },
   "outputs": [
    {
     "data": {
      "text/plain": [
       "[('Dispatch Rate', [0.8388561190341948, 0.8424045239173388]),\n",
       " ('Cancel Rate', [0.07047283233557401, 0.07253704601796189]),\n",
       " ('Response Rate', [0.7673923816938797, 0.7708288292610967]),\n",
       " ('Utilization of Helicopters', [1.820011081784099, 1.8459229841499676]),\n",
       " ('Average Response Time', [0.5694828743041085, 0.5726495917140344])]"
      ]
     },
     "execution_count": 53,
     "metadata": {},
     "output_type": "execute_result"
    }
   ],
   "source": [
    "# EXAMPLE metrics\n",
    "example[0]"
   ]
  },
  {
   "cell_type": "code",
   "execution_count": 54,
   "metadata": {
    "executionInfo": {
     "elapsed": 15,
     "status": "aborted",
     "timestamp": 1638636878099,
     "user": {
      "displayName": "Madeline Aptman",
      "photoUrl": "https://lh3.googleusercontent.com/a/default-user=s64",
      "userId": "08665275218027424190"
     },
     "user_tz": 300
    },
    "id": "mSUC9i-dAhgT",
    "scrolled": true
   },
   "outputs": [
    {
     "data": {
      "text/html": [
       "<div>\n",
       "<style scoped>\n",
       "    .dataframe tbody tr th:only-of-type {\n",
       "        vertical-align: middle;\n",
       "    }\n",
       "\n",
       "    .dataframe tbody tr th {\n",
       "        vertical-align: top;\n",
       "    }\n",
       "\n",
       "    .dataframe thead th {\n",
       "        text-align: right;\n",
       "    }\n",
       "</style>\n",
       "<table border=\"1\" class=\"dataframe\">\n",
       "  <thead>\n",
       "    <tr style=\"text-align: right;\">\n",
       "      <th></th>\n",
       "      <th>HeliAvail</th>\n",
       "      <th>NumTransported</th>\n",
       "      <th>Base</th>\n",
       "    </tr>\n",
       "  </thead>\n",
       "  <tbody>\n",
       "    <tr>\n",
       "      <th>0</th>\n",
       "      <td>0.961538</td>\n",
       "      <td>129.153846</td>\n",
       "      <td>[41.979, 76.5155]</td>\n",
       "    </tr>\n",
       "    <tr>\n",
       "      <th>1</th>\n",
       "      <td>0.846154</td>\n",
       "      <td>492.269231</td>\n",
       "      <td>[42.6526, 73.7562]</td>\n",
       "    </tr>\n",
       "    <tr>\n",
       "      <th>2</th>\n",
       "      <td>0.846154</td>\n",
       "      <td>597.230769</td>\n",
       "      <td>[43.0481, 76.1474]</td>\n",
       "    </tr>\n",
       "    <tr>\n",
       "      <th>3</th>\n",
       "      <td>0.923077</td>\n",
       "      <td>349.730769</td>\n",
       "      <td>[43.1566, 77.6088]</td>\n",
       "    </tr>\n",
       "    <tr>\n",
       "      <th>4</th>\n",
       "      <td>1.000000</td>\n",
       "      <td>190.730769</td>\n",
       "      <td>[42.0898, 76.8077]</td>\n",
       "    </tr>\n",
       "    <tr>\n",
       "      <th>5</th>\n",
       "      <td>0.846154</td>\n",
       "      <td>355.076923</td>\n",
       "      <td>[42.0987, 75.918]</td>\n",
       "    </tr>\n",
       "    <tr>\n",
       "      <th>6</th>\n",
       "      <td>0.884615</td>\n",
       "      <td>344.500000</td>\n",
       "      <td>[42.444, 76.5019]</td>\n",
       "    </tr>\n",
       "    <tr>\n",
       "      <th>7</th>\n",
       "      <td>0.961538</td>\n",
       "      <td>362.961538</td>\n",
       "      <td>[42.8864, 78.8784]</td>\n",
       "    </tr>\n",
       "    <tr>\n",
       "      <th>8</th>\n",
       "      <td>0.923077</td>\n",
       "      <td>367.807692</td>\n",
       "      <td>[43.1009, 75.2327]</td>\n",
       "    </tr>\n",
       "    <tr>\n",
       "      <th>9</th>\n",
       "      <td>0.961538</td>\n",
       "      <td>195.461538</td>\n",
       "      <td>[43.9748, 75.9108]</td>\n",
       "    </tr>\n",
       "  </tbody>\n",
       "</table>\n",
       "</div>"
      ],
      "text/plain": [
       "   HeliAvail  NumTransported                Base\n",
       "0   0.961538      129.153846   [41.979, 76.5155]\n",
       "1   0.846154      492.269231  [42.6526, 73.7562]\n",
       "2   0.846154      597.230769  [43.0481, 76.1474]\n",
       "3   0.923077      349.730769  [43.1566, 77.6088]\n",
       "4   1.000000      190.730769  [42.0898, 76.8077]\n",
       "5   0.846154      355.076923   [42.0987, 75.918]\n",
       "6   0.884615      344.500000   [42.444, 76.5019]\n",
       "7   0.961538      362.961538  [42.8864, 78.8784]\n",
       "8   0.923077      367.807692  [43.1009, 75.2327]\n",
       "9   0.961538      195.461538  [43.9748, 75.9108]"
      ]
     },
     "execution_count": 54,
     "metadata": {},
     "output_type": "execute_result"
    }
   ],
   "source": [
    "# EXAMPLE average stats of helicopters\n",
    "example[1]"
   ]
  },
  {
   "cell_type": "code",
   "execution_count": 55,
   "metadata": {
    "scrolled": false
   },
   "outputs": [
    {
     "data": {
      "text/plain": [
       "Text(0.5, 1.0, 'Example Histogram of Average Response Time with 26 Batches over 365 Days')"
      ]
     },
     "execution_count": 55,
     "metadata": {},
     "output_type": "execute_result"
    },
    {
     "data": {
      "image/png": "[encoded data removed]",
      "text/plain": [
       "<Figure size 1440x1440 with 6 Axes>"
      ]
     },
     "metadata": {
      "needs_background": "light"
     },
     "output_type": "display_data"
    }
   ],
   "source": [
    "fig, axs = plt.subplots(3, 2, figsize=(20,20))\n",
    "\n",
    "dispatch_rate = example[2][0]\n",
    "axs[0, 0].hist(dispatch_rate)\n",
    "axs[0, 0].set_title(\"Example Histogram of Dispatch Rate with 26 Batches over 365 Days\")\n",
    "\n",
    "cancel_rate = example[2][1]\n",
    "axs[0, 1].hist(cancel_rate)\n",
    "axs[0, 1].set_title(\"Example Histogram of Cancellation Rate with 26 Batches over 365 Days\")\n",
    "\n",
    "response_rate = example[2][2]\n",
    "axs[1, 0].hist(response_rate)\n",
    "axs[1, 0].set_title(\"Example Histogram of Response Rate with 26 Batches over 365 Days\")\n",
    "\n",
    "heli_util = example[2][3]\n",
    "axs[1, 1].hist(heli_util)\n",
    "axs[1, 1].set_title(\"Example Histogram of Helicopter Utilization with 26 Batches over 365 Days\")\n",
    "\n",
    "avg_response_time = example[2][4]\n",
    "axs[2, 0].hist(avg_response_time)\n",
    "axs[2, 0].set_title(\"Example Histogram of Average Response Time with 26 Batches over 365 Days\")"
   ]
  },
  {
   "cell_type": "markdown",
   "metadata": {},
   "source": [
    "We can see that the batch means are approximately normally distributed"
   ]
  },
  {
   "cell_type": "markdown",
   "metadata": {},
   "source": [
    "## Find Warmup Length"
   ]
  },
  {
   "cell_type": "code",
   "execution_count": 56,
   "metadata": {
    "scrolled": true
   },
   "outputs": [],
   "source": [
    "base_locs = [\n",
    "    [41.979, 76.5155],\n",
    "    [42.6526, 73.7562],\n",
    "    [43.0481, 76.1474],\n",
    "    [43.1566, 77.6088],\n",
    "    [42.0898, 76.8077],\n",
    "    [42.0987, 75.918],\n",
    "    [42.444, 76.5019],\n",
    "    [42.8864, 78.8784],\n",
    "    [43.1009, 75.2327],\n",
    "    [43.9748, 75.9108]\n",
    "]\n",
    "\n",
    "x = []\n",
    "\n",
    "dr = []\n",
    "cr = []\n",
    "rr = []\n",
    "hu = []\n",
    "art = []\n",
    "\n",
    "# Experiment warmup lengths between 0 hours and 500 hours every 2 hours for an end time of 365 days for 1 batch \n",
    "for i in range(1001):\n",
    "    if (i in [0, 1, 2, 3, 4, 5, 10, 25, 50, 75, 100, 500, 1000]):\n",
    "        x.append(i)\n",
    "        run = simulate(base_locs, 365*24 + i, i, 1, 0.975)\n",
    "        rates = run[0]\n",
    "        idx = 0\n",
    "        for rate_list in [dr, cr, rr, hu, art]:\n",
    "            rate_list.append(rates[idx][1])\n",
    "            idx += 1"
   ]
  },
  {
   "cell_type": "code",
   "execution_count": 57,
   "metadata": {
    "scrolled": false
   },
   "outputs": [
    {
     "data": {
      "text/plain": [
       "Text(0.5, 1.0, 'Average Response Time Based on Warmup Length')"
      ]
     },
     "execution_count": 57,
     "metadata": {},
     "output_type": "execute_result"
    },
    {
     "data": {
      "image/png": "[encoded data removed]",
      "text/plain": [
       "<Figure size 1440x1440 with 6 Axes>"
      ]
     },
     "metadata": {
      "needs_background": "light"
     },
     "output_type": "display_data"
    }
   ],
   "source": [
    "fig, axes = plt.subplots(3, 2, figsize=(20,20))\n",
    "\n",
    "a = np.arange((len(x)))\n",
    "\n",
    "axes[0,0].plot(a, dr, 'b-') \n",
    "axes[0,0].plot(a, dr, 'o', color='orange') \n",
    "axes[0,0].xaxis.set_ticks(a)\n",
    "axes[0,0].xaxis.set_ticklabels(x)\n",
    "axes[0,0].set_title(\"Average Dispatch Rate Based on Warmup Length\")\n",
    "\n",
    "axes[0,1].plot(a, rr, 'b-')   \n",
    "axes[0,1].plot(a, rr, 'o', color='orange') \n",
    "axes[0,1].xaxis.set_ticks(range(len(x)))\n",
    "axes[0,1].xaxis.set_ticklabels(x)\n",
    "axes[0,1].set_title(\"Average Response Rate Based on Warmup Length\")\n",
    "\n",
    "axes[1,0].plot(a, cr, 'b-')\n",
    "axes[1,0].plot(a, cr, 'o', color='orange') \n",
    "axes[1,0].xaxis.set_ticks(a)\n",
    "axes[1,0].xaxis.set_ticklabels(x)\n",
    "axes[1,0].set_title(\"Average Cancellation Rate Based on Warmup Length\")\n",
    "\n",
    "axes[1,1].plot(a, hu, 'b-')\n",
    "axes[1,1].plot(a, hu, 'o', color='orange') \n",
    "axes[1,1].xaxis.set_ticks(a)\n",
    "axes[1,1].xaxis.set_ticklabels(x)\n",
    "axes[1,1].set_title(\"Average Helicopter Utilization Based on Warmup Length\")\n",
    "\n",
    "axes[2,0].plot(a, art, 'b-')\n",
    "axes[2,0].plot(a, art, 'o', color='orange') \n",
    "axes[2,0].xaxis.set_ticks(a)\n",
    "axes[2,0].xaxis.set_ticklabels(x)\n",
    "axes[2,0].set_title(\"Average Response Time Based on Warmup Length\")"
   ]
  },
  {
   "cell_type": "markdown",
   "metadata": {},
   "source": [
    "The warmup does not significantly affect the output of the data, past the first 75 hours. So, we set the warmup length to 75 hours to be conservative"
   ]
  },
  {
   "cell_type": "markdown",
   "metadata": {
    "id": "xHbBOrN9aSIn"
   },
   "source": [
    "## Find Optimal Locations Within Call Data"
   ]
  },
  {
   "cell_type": "markdown",
   "metadata": {
    "id": "0K7FP6VNOg6a"
   },
   "source": [
    "### Find high probability call locations from data"
   ]
  },
  {
   "cell_type": "code",
   "execution_count": 58,
   "metadata": {
    "executionInfo": {
     "elapsed": 16,
     "status": "aborted",
     "timestamp": 1638636878100,
     "user": {
      "displayName": "Madeline Aptman",
      "photoUrl": "https://lh3.googleusercontent.com/a/default-user=s64",
      "userId": "08665275218027424190"
     },
     "user_tz": 300
    },
    "id": "KJI_MvmML1KF"
   },
   "outputs": [],
   "source": [
    "# Same as the project data homework\n",
    "# Creates a list of lists that contains the counts/probabilities of a call occuring in that index \n",
    "# Indices of the list of lists corresponds to a certain latitude and longitude \n",
    "min_lat, max_lat = math.floor(min(df_lat)), math.ceil(max(df_lat))\n",
    "min_lon, max_lon = math.floor(min(df_lon)), math.ceil(max(df_lon))\n",
    "\n",
    "lat_bins = np.linspace(min_lat,max_lat,(max_lat - min_lat)*10)\n",
    "lon_bins = np.linspace(min_lon, max_lon,(max_lon - min_lon)*10)\n",
    "lat_bins_size = lat_bins[1] - lat_bins[0]\n",
    "lon_bins_size = lon_bins[1] - lon_bins[0]\n",
    "\n",
    "counts = np.zeros([len(lat_bins)-1, len(lon_bins)-1])\n",
    "for i in range(len(df_lat)):\n",
    "    lat = df_lat[i]\n",
    "    lon = df_lon[i]\n",
    "    for x in range(len(lat_bins)-1):\n",
    "        for y in range(len(lon_bins)-1):\n",
    "            if lat >= lat_bins[x] and lat < lat_bins[x+1] and lon >= lon_bins[y] and lon < lon_bins[y + 1]: \n",
    "                counts[x][y] += 1\n",
    "\n",
    "total = sum(sum(counts))\n",
    "probs = counts/total"
   ]
  },
  {
   "cell_type": "code",
   "execution_count": 59,
   "metadata": {
    "executionInfo": {
     "elapsed": 16,
     "status": "aborted",
     "timestamp": 1638636878100,
     "user": {
      "displayName": "Madeline Aptman",
      "photoUrl": "https://lh3.googleusercontent.com/a/default-user=s64",
      "userId": "08665275218027424190"
     },
     "user_tz": 300
    },
    "id": "VK55yDKbMeCY"
   },
   "outputs": [],
   "source": [
    "# finds x and y indices in the probs list of lists, that correspond to a probability of >= 0.015\n",
    "index = []\n",
    "for x in range(len(probs)):\n",
    "    for y in range(len(probs[x])):\n",
    "        if (probs[x][y] >= 0.015): #gives me 8 locations\n",
    "            index.append((x,y, probs[x][y]))\n",
    "index = sorted(index, key=lambda item: item[2], reverse = True)"
   ]
  },
  {
   "cell_type": "markdown",
   "metadata": {
    "id": "LiOZ2X2fOxJL"
   },
   "source": [
    "### Latitude and longitudes of call locations with a probability >= 0.015\n",
    "This outputs 8 locations"
   ]
  },
  {
   "cell_type": "code",
   "execution_count": 60,
   "metadata": {
    "executionInfo": {
     "elapsed": 17,
     "status": "aborted",
     "timestamp": 1638636878101,
     "user": {
      "displayName": "Madeline Aptman",
      "photoUrl": "https://lh3.googleusercontent.com/a/default-user=s64",
      "userId": "08665275218027424190"
     },
     "user_tz": 300
    },
    "id": "xUzVZhKxNDx-"
   },
   "outputs": [],
   "source": [
    "# Generate a list of longitude and latitudes that have a probability of >= 0.015 \n",
    "lat_lon = []\n",
    "lat_lon_probs = []\n",
    "for x, y, probs in index:\n",
    "    lat = lat_bins[x] + np.random.uniform(0, lat_bins_size)\n",
    "    lon = lon_bins[y] + np.random.uniform(0, lon_bins_size)\n",
    "    lat_lon.append([lat, lon])\n",
    "    lat_lon_probs.append([lat, lon, probs])"
   ]
  },
  {
   "cell_type": "code",
   "execution_count": 61,
   "metadata": {},
   "outputs": [
    {
     "data": {
      "text/plain": [
       "[[42.088817634855644, 76.77376053593315, 0.023949629280922678],\n",
       " [42.48770343976498, 76.50285123678472, 0.017064846416382253],\n",
       " [43.10869093163745, 75.19817644249056, 0.017006002118394727],\n",
       " [43.88738494712489, 75.93245201108583, 0.016476403436507],\n",
       " [42.89760008036448, 78.85877673750723, 0.01641755913851948],\n",
       " [44.01985343214066, 75.91076908530538, 0.016123337648581853],\n",
       " [43.09143559122331, 75.31899113929558, 0.015652583264681653],\n",
       " [42.42045121429573, 76.4822132717394, 0.015122984582793927]]"
      ]
     },
     "execution_count": 61,
     "metadata": {},
     "output_type": "execute_result"
    }
   ],
   "source": [
    "lat_lon_probs"
   ]
  },
  {
   "cell_type": "markdown",
   "metadata": {
    "id": "gMEXHH5uk3rQ"
   },
   "source": [
    "## Find Optimal Helicopter Locations and Number of Helicopters"
   ]
  },
  {
   "cell_type": "code",
   "execution_count": 62,
   "metadata": {},
   "outputs": [],
   "source": [
    "def get_response_time(s_result):\n",
    "    response_time = (s_result[0][4][1][0]+s_result[0][4][1][1])/2\n",
    "\n",
    "    return response_time"
   ]
  },
  {
   "cell_type": "code",
   "execution_count": 63,
   "metadata": {},
   "outputs": [],
   "source": [
    "def get_cancel_rate(s_result):\n",
    "    p1 = s_result[0][0][1][1][0]\n",
    "    p2 = s_result[0][0][1][1][1]\n",
    "    cancel_rate = (p1+p2)/2\n",
    "    \n",
    "    return cancel_rate"
   ]
  },
  {
   "cell_type": "code",
   "execution_count": 64,
   "metadata": {},
   "outputs": [],
   "source": [
    "def find_bases(num_helis,bases):\n",
    "    combos = []\n",
    "    for i in combinations_with_replacement(bases,num_helis):\n",
    "        combos.append(i)\n",
    "    return combos"
   ]
  },
  {
   "cell_type": "code",
   "execution_count": 65,
   "metadata": {},
   "outputs": [],
   "source": [
    "#Running simulation\n",
    "def shortest_responses(num_helis,bases):\n",
    "    list_results = []\n",
    "    possible_base_locs = find_bases(num_helis,bases)\n",
    "    \n",
    "    for bases in possible_base_locs:\n",
    "        sim = simulate(bases, 365*24 + 10, 10, round((365*24)/(14*24)), 0.975)\n",
    "        score = get_response_time(sim)\n",
    "        list_results.append((sim,score))\n",
    "\n",
    "    \n",
    "    sorted_results= sorted(list_results, key=lambda item: item[1])\n",
    "    \n",
    "    return sorted_results[:5]"
   ]
  },
  {
   "cell_type": "code",
   "execution_count": 66,
   "metadata": {},
   "outputs": [],
   "source": [
    "def smallest_cancelation(five_shortest):\n",
    "    opt_rate = 1\n",
    "    opt_indx = 0\n",
    "    for i in range(len(five_shortest)):\n",
    "        temp = get_cancel_rate(five_shortest[i])\n",
    "        if temp < opt_rate:\n",
    "            opt_rate = temp\n",
    "            opt_indx = i\n",
    "    return five_shortest[i]"
   ]
  },
  {
   "cell_type": "code",
   "execution_count": 67,
   "metadata": {},
   "outputs": [],
   "source": [
    "#Takes in number of helicopters and the bases. First finds the 5 base location distributions with the lowest \n",
    "    #response times, and then finds the one base location with the lowest cancel_rate\n",
    "def get_opt_bases(num_helis,bases):\n",
    "    shortest_five = shortest_responses(num_helis,bases)\n",
    "    opt = smallest_cancelation(shortest_five)\n",
    "    opt_return = [('Number of helis:',num_helis),\n",
    "                opt[0][0][0],\n",
    "                opt[0][0][1],\n",
    "                opt[0][0][2],\n",
    "                opt[0][0][3],\n",
    "                opt[0][0][4]\n",
    "                ],opt[0][1]\n",
    "    return opt_return"
   ]
  },
  {
   "cell_type": "code",
   "execution_count": 68,
   "metadata": {
    "scrolled": true
   },
   "outputs": [
    {
     "name": "stdout",
     "output_type": "stream",
     "text": [
      "[ 5  6  7  8  9 10 11 12]\n"
     ]
    }
   ],
   "source": [
    "nums = np.arange(5,13,1)\n",
    "print(nums)"
   ]
  },
  {
   "cell_type": "code",
   "execution_count": 69,
   "metadata": {
    "scrolled": true
   },
   "outputs": [
    {
     "name": "stdout",
     "output_type": "stream",
     "text": [
      "Hosp lat\n",
      "0.0000     4540\n",
      "41.9790     558\n",
      "42.0898     622\n",
      "42.0987    1163\n",
      "42.4440     630\n",
      "42.6526    2431\n",
      "42.8864    1329\n",
      "43.0481    2020\n",
      "43.1009     861\n",
      "43.1566    2035\n",
      "43.9748     805\n",
      "dtype: int64\n"
     ]
    }
   ],
   "source": [
    "#Make Dataframe to see the most dense hospitals\n",
    "count = df.pivot_table(columns=['Hosp lat'], aggfunc='size')\n",
    "print(count)"
   ]
  },
  {
   "cell_type": "code",
   "execution_count": 70,
   "metadata": {},
   "outputs": [],
   "source": [
    "#5 most visited hospital locations from test data\n",
    "dense_locations = [\n",
    "    [42.6526, 73.7562],\n",
    "    [43.1566, 77.6088],\n",
    "    [43.0481, 76.1474],\n",
    "    [42.8864, 78.8784],\n",
    "    [42.0987, 75.918]]"
   ]
  },
  {
   "cell_type": "code",
   "execution_count": 71,
   "metadata": {
    "scrolled": false
   },
   "outputs": [],
   "source": [
    "#Warning this takes about an hour and a half to run\n",
    "bases_five_to_twelve = []\n",
    "for i in nums:\n",
    "    val = get_opt_bases(i,dense_locations)\n",
    "    bases_five_to_twelve.append(val)"
   ]
  },
  {
   "cell_type": "code",
   "execution_count": 72,
   "metadata": {},
   "outputs": [
    {
     "name": "stdout",
     "output_type": "stream",
     "text": [
      "Optimal Placement For 0 Helicopters:\n",
      "   HeliAvail  NumTransported                Base\n",
      "0   0.769231      523.884615  (42.6526, 73.7562)\n",
      "1   0.615385      803.846154  (43.0481, 76.1474)\n",
      "2   0.730769      473.000000  (43.0481, 76.1474)\n",
      "3   0.807692      541.807692   (42.0987, 75.918)\n",
      "4   0.807692      285.500000   (42.0987, 75.918)\n",
      "Optimal Placement For 1 Helicopters:\n",
      "   HeliAvail  NumTransported                Base\n",
      "0   0.769231      543.038462  (42.6526, 73.7562)\n",
      "1   0.653846      789.000000  (43.0481, 76.1474)\n",
      "2   0.807692      452.192308  (43.0481, 76.1474)\n",
      "3   0.884615      282.384615  (43.0481, 76.1474)\n",
      "4   0.730769      527.115385   (42.0987, 75.918)\n",
      "5   0.884615      253.961538   (42.0987, 75.918)\n",
      "Optimal Placement For 2 Helicopters:\n",
      "   HeliAvail  NumTransported                Base\n",
      "0   0.884615      493.576923  (42.6526, 73.7562)\n",
      "1   0.769231      468.346154  (43.1566, 77.6088)\n",
      "2   0.846154      215.192308  (43.1566, 77.6088)\n",
      "3   0.846154      775.961538  (43.0481, 76.1474)\n",
      "4   0.884615      389.923077  (43.0481, 76.1474)\n",
      "5   0.769231      375.423077  (42.8864, 78.8784)\n",
      "6   0.769231      511.846154   (42.0987, 75.918)\n",
      "Optimal Placement For 3 Helicopters:\n",
      "   HeliAvail  NumTransported                Base\n",
      "0   0.769231      494.038462  (42.6526, 73.7562)\n",
      "1   0.807692      463.038462  (43.1566, 77.6088)\n",
      "2   0.961538      194.038462  (43.1566, 77.6088)\n",
      "3   0.692308      748.230769  (43.0481, 76.1474)\n",
      "4   0.846154      375.615385  (43.0481, 76.1474)\n",
      "5   0.961538      383.500000  (42.8864, 78.8784)\n",
      "6   0.884615      501.500000   (42.0987, 75.918)\n",
      "7   0.961538      234.884615   (42.0987, 75.918)\n",
      "Optimal Placement For 4 Helicopters:\n",
      "   HeliAvail  NumTransported                Base\n",
      "0   0.615385      510.846154  (42.6526, 73.7562)\n",
      "1   0.961538      187.961538  (42.6526, 73.7562)\n",
      "2   0.884615      438.692308  (43.1566, 77.6088)\n",
      "3   0.807692      197.076923  (43.1566, 77.6088)\n",
      "4   0.576923      737.538462  (43.0481, 76.1474)\n",
      "5   0.846154      361.807692  (43.0481, 76.1474)\n",
      "6   0.769231      383.615385  (42.8864, 78.8784)\n",
      "7   0.730769      487.846154   (42.0987, 75.918)\n",
      "8   0.884615      208.500000   (42.0987, 75.918)\n",
      "Optimal Placement For 5 Helicopters:\n",
      "   HeliAvail  NumTransported                Base\n",
      "0   0.692308      486.807692  (42.6526, 73.7562)\n",
      "1   0.884615      395.538462  (43.1566, 77.6088)\n",
      "2   0.884615      139.923077  (43.1566, 77.6088)\n",
      "3   0.461538      715.307692  (43.0481, 76.1474)\n",
      "4   0.807692      362.153846  (43.0481, 76.1474)\n",
      "5   0.961538      175.269231  (43.0481, 76.1474)\n",
      "6   0.730769      366.730769  (42.8864, 78.8784)\n",
      "7   0.884615      109.230769  (42.8864, 78.8784)\n",
      "8   0.923077      467.615385   (42.0987, 75.918)\n",
      "9   0.961538      191.038462   (42.0987, 75.918)\n",
      "Optimal Placement For 6 Helicopters:\n",
      "    HeliAvail  NumTransported                Base\n",
      "0    0.769231      507.000000  (42.6526, 73.7562)\n",
      "1    0.923077      177.076923  (42.6526, 73.7562)\n",
      "2    1.000000       55.230769  (42.6526, 73.7562)\n",
      "3    0.730769      437.461538  (43.1566, 77.6088)\n",
      "4    0.923077      182.115385  (43.1566, 77.6088)\n",
      "5    0.769231      748.153846  (43.0481, 76.1474)\n",
      "6    0.846154      366.769231  (43.0481, 76.1474)\n",
      "7    0.846154      182.346154  (43.0481, 76.1474)\n",
      "8    0.846154      390.807692  (42.8864, 78.8784)\n",
      "9    0.846154      455.538462   (42.0987, 75.918)\n",
      "10   0.884615      149.961538   (42.0987, 75.918)\n"
     ]
    }
   ],
   "source": [
    "for i in range(7):\n",
    "    print(\"Optimal Placement For\", i, \"Helicopters:\")\n",
    "    print(bases_five_to_twelve[i][1])"
   ]
  },
  {
   "cell_type": "code",
   "execution_count": 73,
   "metadata": {},
   "outputs": [],
   "source": [
    "for i in bases_five_to_twelve:\n",
    "    bss = i[1]['Base'].tolist()\n",
    "    lat_vals = []\n",
    "    lon_vals = []\n",
    "    for j in bss:\n",
    "        lat_vals.append(j[0])\n",
    "        lon_vals.append(j[1])\n",
    "    i[1]['Lon'] = lon_vals\n",
    "    i[1]['Lat'] = lat_vals  "
   ]
  },
  {
   "cell_type": "code",
   "execution_count": 74,
   "metadata": {},
   "outputs": [],
   "source": [
    "def make_heat_map(labl,data):\n",
    "    lat_lon = data[['Lon','Lat']]\n",
    "\n",
    "    lat_max = math.ceil(np.array(lat_lon['Lat']).max())\n",
    "    lat_min = math.floor(np.array(lat_lon['Lat']).min())\n",
    "    lon_max = math.ceil(np.array(lat_lon['Lon']).max())\n",
    "    lon_min = math.floor(np.array(lat_lon['Lon']).min())\n",
    "    \n",
    "    x_bins = np.linspace(lon_min, lon_max,(lon_max-lon_min)*7)\n",
    "    y_bins = np.linspace(lat_min,lat_max,(lat_max-lat_min)*7)\n",
    "\n",
    "    plt.hist2d(lat_lon['Lon'],lat_lon['Lat'], bins=(x_bins, y_bins),cmap = plt.cm.jet)\n",
    "    plt.axis([lon_max,lon_min,lat_min,lat_max])\n",
    "    x_range = np.arange(math.floor(min(lat_lon['Lon'])), math.ceil(max(lat_lon['Lon'])), 1)\n",
    "    y_range = np.arange(math.floor(min(lat_lon['Lat'])), math.ceil(max(lat_lon['Lat'])), 1)\n",
    "    plt.xticks(np.flip(x_range))\n",
    "    plt.yticks(y_range)\n",
    "    plt.title(labl)\n",
    "\n",
    "    plt.colorbar()\n",
    "    plt.tight_layout()\n",
    "    plt.show()"
   ]
  },
  {
   "cell_type": "code",
   "execution_count": 75,
   "metadata": {
    "scrolled": true
   },
   "outputs": [
    {
     "data": {
      "image/png": "[encoded data removed]",
      "text/plain": [
       "<Figure size 432x288 with 2 Axes>"
      ]
     },
     "metadata": {
      "needs_background": "light"
     },
     "output_type": "display_data"
    }
   ],
   "source": [
    "#Heat map of sample data, showing most commonly visited hospitals\n",
    "make_heat_map(\"Sample Data\",df)"
   ]
  },
  {
   "cell_type": "code",
   "execution_count": 76,
   "metadata": {
    "scrolled": false
   },
   "outputs": [
    {
     "data": {
      "image/png": "[encoded data removed]",
      "text/plain": [
       "<Figure size 432x288 with 2 Axes>"
      ]
     },
     "metadata": {
      "needs_background": "light"
     },
     "output_type": "display_data"
    },
    {
     "data": {
      "image/png": "[encoded data removed]",
      "text/plain": [
       "<Figure size 432x288 with 2 Axes>"
      ]
     },
     "metadata": {
      "needs_background": "light"
     },
     "output_type": "display_data"
    },
    {
     "data": {
      "image/png": "[encoded data removed]",
      "text/plain": [
       "<Figure size 432x288 with 2 Axes>"
      ]
     },
     "metadata": {
      "needs_background": "light"
     },
     "output_type": "display_data"
    },
    {
     "data": {
      "image/png": "[encoded data removed]",
      "text/plain": [
       "<Figure size 432x288 with 2 Axes>"
      ]
     },
     "metadata": {
      "needs_background": "light"
     },
     "output_type": "display_data"
    },
    {
     "data": {
      "image/png": "[encoded data removed]",
      "text/plain": [
       "<Figure size 432x288 with 2 Axes>"
      ]
     },
     "metadata": {
      "needs_background": "light"
     },
     "output_type": "display_data"
    },
    {
     "data": {
      "image/png": "[encoded data removed]",
      "text/plain": [
       "<Figure size 432x288 with 2 Axes>"
      ]
     },
     "metadata": {
      "needs_background": "light"
     },
     "output_type": "display_data"
    },
    {
     "data": {
      "image/png": "[encoded data removed]",
      "text/plain": [
       "<Figure size 432x288 with 2 Axes>"
      ]
     },
     "metadata": {
      "needs_background": "light"
     },
     "output_type": "display_data"
    },
    {
     "data": {
      "image/png": "[encoded data removed]",
      "text/plain": [
       "<Figure size 432x288 with 2 Axes>"
      ]
     },
     "metadata": {
      "needs_background": "light"
     },
     "output_type": "display_data"
    }
   ],
   "source": [
    "#Heat map for the optimal helicopter locations for iterations with 5,6,7,8,9,10,11,12 helicopters\n",
    "for i in range(len(bases_five_to_twelve)):\n",
    "    df = bases_five_to_twelve[i][1]\n",
    "    name = \"Heat Map for Optimal Bases with \" + str(i+5) + \" helicopters\" \n",
    "    make_heat_map(name,df)"
   ]
  },
  {
   "cell_type": "code",
   "execution_count": 77,
   "metadata": {},
   "outputs": [],
   "source": [
    "nh = []; dr = []; cr = []; rr = []; uti = []; rt = []\n",
    "for i in range(len(bases_five_to_twelve)):\n",
    "    dt = bases_five_to_twelve[i][0]\n",
    "    nh.append(dt[0][1])\n",
    "    dr.append((dt[1][1][0]+dt[1][1][1])/2)\n",
    "    cr.append((dt[2][1][0]+dt[2][1][1])/2)\n",
    "    rr.append((dt[3][1][0]+dt[3][1][1])/2)\n",
    "    uti.append((dt[4][1][0]+dt[4][1][1])/2)\n",
    "    rt.append((dt[5][1][0]+dt[5][1][1])/2)\n",
    "stats = {'Numbrt of Helicopters': nh,\n",
    "         'Dispatch Rate' : dr,\n",
    "         'Cancelation Rate': cr,\n",
    "         'Response Rate': rr,\n",
    "         'Utilization': uti,\n",
    "         'Average Response Time': rt}\n",
    "stats = pd.DataFrame(stats)\n",
    "#stats.head()"
   ]
  },
  {
   "cell_type": "code",
   "execution_count": 78,
   "metadata": {
    "scrolled": true
   },
   "outputs": [
    {
     "data": {
      "image/png": "[encoded data removed]",
      "text/plain": [
       "<Figure size 432x288 with 1 Axes>"
      ]
     },
     "metadata": {
      "needs_background": "light"
     },
     "output_type": "display_data"
    }
   ],
   "source": [
    "x = stats['Numbrt of Helicopters']; y1 = stats['Dispatch Rate']; y2 = stats['Cancelation Rate']; y3 = stats['Response Rate']; y4 = stats['Utilization']; y5 = stats['Average Response Time']\n",
    "plt.plot(x,y1, label = \"Dispatch Rate\")\n",
    "plt.plot(x,y3, label = \"Response Rate\")\n",
    "plt.plot(x,y5, label = 'Average Response Time')\n",
    "plt.legend(bbox_to_anchor=(1.05,1.0),loc = 'upper left')\n",
    "plt.title('Comparing Optimal Solutions of using 5-12 Helicopters')\n",
    "plt.xlabel('Number of Helicopters Used')\n",
    "plt.show()"
   ]
  },
  {
   "cell_type": "code",
   "execution_count": 119,
   "metadata": {
    "scrolled": true
   },
   "outputs": [
    {
     "data": {
      "image/png": "[encoded data removed]",
      "text/plain": [
       "<Figure size 432x288 with 1 Axes>"
      ]
     },
     "metadata": {
      "needs_background": "light"
     },
     "output_type": "display_data"
    }
   ],
   "source": [
    "plt.plot(x,y4, label = \"Utilization\",color=\"Magenta\")\n",
    "plt.legend(bbox_to_anchor=(1.05,1.0),loc = 'upper left')\n",
    "plt.title('Comparing Optimal Solutions of using 5-12 Helicopters')\n",
    "plt.xlabel('Number of Helicopters Used')\n",
    "plt.show()"
   ]
  },
  {
   "cell_type": "code",
   "execution_count": 124,
   "metadata": {},
   "outputs": [
    {
     "data": {
      "image/png": "[encoded data removed]",
      "text/plain": [
       "<Figure size 432x288 with 1 Axes>"
      ]
     },
     "metadata": {
      "needs_background": "light"
     },
     "output_type": "display_data"
    }
   ],
   "source": [
    "plt.title('Comparing Optimal Solutions of using 5-12 Helicopters')\n",
    "plt.xlabel('Number of Helicopters Used')\n",
    "plt.plot(x,y2, label = \"Cancellation Rate\",color='Blue')\n",
    "plt.legend(bbox_to_anchor=(1.05,1.0),loc = 'upper left')\n",
    "plt.show()"
   ]
  },
  {
   "cell_type": "code",
   "execution_count": 80,
   "metadata": {
    "scrolled": false
   },
   "outputs": [
    {
     "data": {
      "image/png": "[encoded data removed]",
      "text/plain": [
       "<Figure size 432x288 with 1 Axes>"
      ]
     },
     "metadata": {
      "needs_background": "light"
     },
     "output_type": "display_data"
    },
    {
     "data": {
      "image/png": "[encoded data removed]",
      "text/plain": [
       "<Figure size 432x288 with 1 Axes>"
      ]
     },
     "metadata": {
      "needs_background": "light"
     },
     "output_type": "display_data"
    },
    {
     "data": {
      "image/png": "[encoded data removed]",
      "text/plain": [
       "<Figure size 432x288 with 1 Axes>"
      ]
     },
     "metadata": {
      "needs_background": "light"
     },
     "output_type": "display_data"
    },
    {
     "data": {
      "image/png": "[encoded data removed]",
      "text/plain": [
       "<Figure size 432x288 with 1 Axes>"
      ]
     },
     "metadata": {
      "needs_background": "light"
     },
     "output_type": "display_data"
    },
    {
     "data": {
      "image/png": "[encoded data removed]",
      "text/plain": [
       "<Figure size 432x288 with 1 Axes>"
      ]
     },
     "metadata": {
      "needs_background": "light"
     },
     "output_type": "display_data"
    }
   ],
   "source": [
    "y_title = ['Dispatch Rate','Cancelation Rate','Response Rate','Utilization','Average Response Time']\n",
    "for i in y_title:\n",
    "    y = stats[i]\n",
    "    plt.plot(x,y)\n",
    "    ttl = 'Comparing Optimal '+ i + ' of using 5-12 Helicopters'\n",
    "    plt.title(ttl)\n",
    "    plt.xlabel('Number of Helicopters Used')\n",
    "    plt.ylabel(i)\n",
    "    plt.show()"
   ]
  },
  {
   "cell_type": "markdown",
   "metadata": {},
   "source": [
    "## Testing Optimal Bases for 10 Helicopters"
   ]
  },
  {
   "cell_type": "code",
   "execution_count": 81,
   "metadata": {},
   "outputs": [],
   "source": [
    "optimal10 = bases_five_to_twelve[5]\n",
    "optimal10_bases = optimal10[1]['Base'].tolist()\n",
    "optimal10_bases_plus = optimal10_bases\n",
    "optimal10_bases_plus.extend([(43.9748, 75.9108)])\n",
    "optimal10_plus = simulate(optimal10_bases_plus, 365*24 + 10, 10, round((365*24)/(14*24)), 0.975)\n",
    "optimal10_plus = [('Number of helis:',11),\n",
    "                optimal10_plus[0][0],\n",
    "                optimal10_plus[0][1],\n",
    "                optimal10_plus[0][2],\n",
    "                optimal10_plus[0][3],\n",
    "                optimal10_plus[0][4]\n",
    "                ],optimal10_plus[1]"
   ]
  },
  {
   "cell_type": "code",
   "execution_count": 82,
   "metadata": {},
   "outputs": [],
   "source": [
    "def get_stats(dt):\n",
    "    empty = []\n",
    "    empty.append(int(dt[0][1]))\n",
    "    empty.append((dt[1][1][0]+dt[1][1][1])/2)\n",
    "    empty.append((dt[2][1][0]+dt[2][1][1])/2)\n",
    "    empty.append((dt[3][1][0]+dt[3][1][1])/2)\n",
    "    empty.append((dt[4][1][0]+dt[4][1][1])/2)\n",
    "    empty.append((dt[5][1][0]+dt[5][1][1])/2)\n",
    "    return empty"
   ]
  },
  {
   "cell_type": "code",
   "execution_count": 83,
   "metadata": {},
   "outputs": [
    {
     "data": {
      "text/html": [
       "<div>\n",
       "<style scoped>\n",
       "    .dataframe tbody tr th:only-of-type {\n",
       "        vertical-align: middle;\n",
       "    }\n",
       "\n",
       "    .dataframe tbody tr th {\n",
       "        vertical-align: top;\n",
       "    }\n",
       "\n",
       "    .dataframe thead th {\n",
       "        text-align: right;\n",
       "    }\n",
       "</style>\n",
       "<table border=\"1\" class=\"dataframe\">\n",
       "  <thead>\n",
       "    <tr style=\"text-align: right;\">\n",
       "      <th></th>\n",
       "      <th>HeliAvail</th>\n",
       "      <th>NumTransported</th>\n",
       "      <th>Base</th>\n",
       "      <th>Lon</th>\n",
       "      <th>Lat</th>\n",
       "    </tr>\n",
       "  </thead>\n",
       "  <tbody>\n",
       "    <tr>\n",
       "      <th>0</th>\n",
       "      <td>0.692308</td>\n",
       "      <td>486.807692</td>\n",
       "      <td>(42.6526, 73.7562)</td>\n",
       "      <td>73.7562</td>\n",
       "      <td>42.6526</td>\n",
       "    </tr>\n",
       "    <tr>\n",
       "      <th>1</th>\n",
       "      <td>0.884615</td>\n",
       "      <td>395.538462</td>\n",
       "      <td>(43.1566, 77.6088)</td>\n",
       "      <td>77.6088</td>\n",
       "      <td>43.1566</td>\n",
       "    </tr>\n",
       "    <tr>\n",
       "      <th>2</th>\n",
       "      <td>0.884615</td>\n",
       "      <td>139.923077</td>\n",
       "      <td>(43.1566, 77.6088)</td>\n",
       "      <td>77.6088</td>\n",
       "      <td>43.1566</td>\n",
       "    </tr>\n",
       "    <tr>\n",
       "      <th>3</th>\n",
       "      <td>0.461538</td>\n",
       "      <td>715.307692</td>\n",
       "      <td>(43.0481, 76.1474)</td>\n",
       "      <td>76.1474</td>\n",
       "      <td>43.0481</td>\n",
       "    </tr>\n",
       "    <tr>\n",
       "      <th>4</th>\n",
       "      <td>0.807692</td>\n",
       "      <td>362.153846</td>\n",
       "      <td>(43.0481, 76.1474)</td>\n",
       "      <td>76.1474</td>\n",
       "      <td>43.0481</td>\n",
       "    </tr>\n",
       "    <tr>\n",
       "      <th>5</th>\n",
       "      <td>0.961538</td>\n",
       "      <td>175.269231</td>\n",
       "      <td>(43.0481, 76.1474)</td>\n",
       "      <td>76.1474</td>\n",
       "      <td>43.0481</td>\n",
       "    </tr>\n",
       "    <tr>\n",
       "      <th>6</th>\n",
       "      <td>0.730769</td>\n",
       "      <td>366.730769</td>\n",
       "      <td>(42.8864, 78.8784)</td>\n",
       "      <td>78.8784</td>\n",
       "      <td>42.8864</td>\n",
       "    </tr>\n",
       "    <tr>\n",
       "      <th>7</th>\n",
       "      <td>0.884615</td>\n",
       "      <td>109.230769</td>\n",
       "      <td>(42.8864, 78.8784)</td>\n",
       "      <td>78.8784</td>\n",
       "      <td>42.8864</td>\n",
       "    </tr>\n",
       "    <tr>\n",
       "      <th>8</th>\n",
       "      <td>0.923077</td>\n",
       "      <td>467.615385</td>\n",
       "      <td>(42.0987, 75.918)</td>\n",
       "      <td>75.9180</td>\n",
       "      <td>42.0987</td>\n",
       "    </tr>\n",
       "    <tr>\n",
       "      <th>9</th>\n",
       "      <td>0.961538</td>\n",
       "      <td>191.038462</td>\n",
       "      <td>(42.0987, 75.918)</td>\n",
       "      <td>75.9180</td>\n",
       "      <td>42.0987</td>\n",
       "    </tr>\n",
       "  </tbody>\n",
       "</table>\n",
       "</div>"
      ],
      "text/plain": [
       "   HeliAvail  NumTransported                Base      Lon      Lat\n",
       "0   0.692308      486.807692  (42.6526, 73.7562)  73.7562  42.6526\n",
       "1   0.884615      395.538462  (43.1566, 77.6088)  77.6088  43.1566\n",
       "2   0.884615      139.923077  (43.1566, 77.6088)  77.6088  43.1566\n",
       "3   0.461538      715.307692  (43.0481, 76.1474)  76.1474  43.0481\n",
       "4   0.807692      362.153846  (43.0481, 76.1474)  76.1474  43.0481\n",
       "5   0.961538      175.269231  (43.0481, 76.1474)  76.1474  43.0481\n",
       "6   0.730769      366.730769  (42.8864, 78.8784)  78.8784  42.8864\n",
       "7   0.884615      109.230769  (42.8864, 78.8784)  78.8784  42.8864\n",
       "8   0.923077      467.615385   (42.0987, 75.918)  75.9180  42.0987\n",
       "9   0.961538      191.038462   (42.0987, 75.918)  75.9180  42.0987"
      ]
     },
     "execution_count": 83,
     "metadata": {},
     "output_type": "execute_result"
    }
   ],
   "source": [
    "optimal10[1]"
   ]
  },
  {
   "cell_type": "code",
   "execution_count": 84,
   "metadata": {},
   "outputs": [
    {
     "data": {
      "text/html": [
       "<div>\n",
       "<style scoped>\n",
       "    .dataframe tbody tr th:only-of-type {\n",
       "        vertical-align: middle;\n",
       "    }\n",
       "\n",
       "    .dataframe tbody tr th {\n",
       "        vertical-align: top;\n",
       "    }\n",
       "\n",
       "    .dataframe thead th {\n",
       "        text-align: right;\n",
       "    }\n",
       "</style>\n",
       "<table border=\"1\" class=\"dataframe\">\n",
       "  <thead>\n",
       "    <tr style=\"text-align: right;\">\n",
       "      <th></th>\n",
       "      <th>HeliAvail</th>\n",
       "      <th>NumTransported</th>\n",
       "      <th>Base</th>\n",
       "    </tr>\n",
       "  </thead>\n",
       "  <tbody>\n",
       "    <tr>\n",
       "      <th>0</th>\n",
       "      <td>0.846154</td>\n",
       "      <td>499.500000</td>\n",
       "      <td>(42.6526, 73.7562)</td>\n",
       "    </tr>\n",
       "    <tr>\n",
       "      <th>1</th>\n",
       "      <td>0.807692</td>\n",
       "      <td>368.346154</td>\n",
       "      <td>(43.1566, 77.6088)</td>\n",
       "    </tr>\n",
       "    <tr>\n",
       "      <th>2</th>\n",
       "      <td>0.923077</td>\n",
       "      <td>115.423077</td>\n",
       "      <td>(43.1566, 77.6088)</td>\n",
       "    </tr>\n",
       "    <tr>\n",
       "      <th>3</th>\n",
       "      <td>0.692308</td>\n",
       "      <td>689.884615</td>\n",
       "      <td>(43.0481, 76.1474)</td>\n",
       "    </tr>\n",
       "    <tr>\n",
       "      <th>4</th>\n",
       "      <td>0.923077</td>\n",
       "      <td>343.192308</td>\n",
       "      <td>(43.0481, 76.1474)</td>\n",
       "    </tr>\n",
       "    <tr>\n",
       "      <th>5</th>\n",
       "      <td>0.923077</td>\n",
       "      <td>144.115385</td>\n",
       "      <td>(43.0481, 76.1474)</td>\n",
       "    </tr>\n",
       "    <tr>\n",
       "      <th>6</th>\n",
       "      <td>0.846154</td>\n",
       "      <td>353.923077</td>\n",
       "      <td>(42.8864, 78.8784)</td>\n",
       "    </tr>\n",
       "    <tr>\n",
       "      <th>7</th>\n",
       "      <td>0.923077</td>\n",
       "      <td>96.807692</td>\n",
       "      <td>(42.8864, 78.8784)</td>\n",
       "    </tr>\n",
       "    <tr>\n",
       "      <th>8</th>\n",
       "      <td>0.846154</td>\n",
       "      <td>451.692308</td>\n",
       "      <td>(42.0987, 75.918)</td>\n",
       "    </tr>\n",
       "    <tr>\n",
       "      <th>9</th>\n",
       "      <td>1.000000</td>\n",
       "      <td>174.923077</td>\n",
       "      <td>(42.0987, 75.918)</td>\n",
       "    </tr>\n",
       "    <tr>\n",
       "      <th>10</th>\n",
       "      <td>0.923077</td>\n",
       "      <td>201.615385</td>\n",
       "      <td>(43.9748, 75.9108)</td>\n",
       "    </tr>\n",
       "  </tbody>\n",
       "</table>\n",
       "</div>"
      ],
      "text/plain": [
       "    HeliAvail  NumTransported                Base\n",
       "0    0.846154      499.500000  (42.6526, 73.7562)\n",
       "1    0.807692      368.346154  (43.1566, 77.6088)\n",
       "2    0.923077      115.423077  (43.1566, 77.6088)\n",
       "3    0.692308      689.884615  (43.0481, 76.1474)\n",
       "4    0.923077      343.192308  (43.0481, 76.1474)\n",
       "5    0.923077      144.115385  (43.0481, 76.1474)\n",
       "6    0.846154      353.923077  (42.8864, 78.8784)\n",
       "7    0.923077       96.807692  (42.8864, 78.8784)\n",
       "8    0.846154      451.692308   (42.0987, 75.918)\n",
       "9    1.000000      174.923077   (42.0987, 75.918)\n",
       "10   0.923077      201.615385  (43.9748, 75.9108)"
      ]
     },
     "execution_count": 84,
     "metadata": {},
     "output_type": "execute_result"
    }
   ],
   "source": [
    "optimal10_plus[1]"
   ]
  },
  {
   "cell_type": "code",
   "execution_count": 85,
   "metadata": {},
   "outputs": [
    {
     "data": {
      "text/html": [
       "<div>\n",
       "<style scoped>\n",
       "    .dataframe tbody tr th:only-of-type {\n",
       "        vertical-align: middle;\n",
       "    }\n",
       "\n",
       "    .dataframe tbody tr th {\n",
       "        vertical-align: top;\n",
       "    }\n",
       "\n",
       "    .dataframe thead th {\n",
       "        text-align: right;\n",
       "    }\n",
       "</style>\n",
       "<table border=\"1\" class=\"dataframe\">\n",
       "  <thead>\n",
       "    <tr style=\"text-align: right;\">\n",
       "      <th></th>\n",
       "      <th></th>\n",
       "      <th>Optimal Helicopters</th>\n",
       "      <th>Optimal Helicopters Plus Additional Base</th>\n",
       "    </tr>\n",
       "  </thead>\n",
       "  <tbody>\n",
       "    <tr>\n",
       "      <th>0</th>\n",
       "      <td>Number of Helicopter</td>\n",
       "      <td>10.000000</td>\n",
       "      <td>11.000000</td>\n",
       "    </tr>\n",
       "    <tr>\n",
       "      <th>1</th>\n",
       "      <td>Dispatch Rate</td>\n",
       "      <td>0.830742</td>\n",
       "      <td>0.839286</td>\n",
       "    </tr>\n",
       "    <tr>\n",
       "      <th>2</th>\n",
       "      <td>Cancelation Rate</td>\n",
       "      <td>0.075988</td>\n",
       "      <td>0.077818</td>\n",
       "    </tr>\n",
       "    <tr>\n",
       "      <th>3</th>\n",
       "      <td>Response Rate</td>\n",
       "      <td>0.754656</td>\n",
       "      <td>0.761459</td>\n",
       "    </tr>\n",
       "    <tr>\n",
       "      <th>4</th>\n",
       "      <td>Utilization</td>\n",
       "      <td>1.828219</td>\n",
       "      <td>1.654795</td>\n",
       "    </tr>\n",
       "    <tr>\n",
       "      <th>5</th>\n",
       "      <td>Average Response Time</td>\n",
       "      <td>0.587161</td>\n",
       "      <td>0.568516</td>\n",
       "    </tr>\n",
       "  </tbody>\n",
       "</table>\n",
       "</div>"
      ],
      "text/plain": [
       "                          Optimal Helicopters  \\\n",
       "0   Number of Helicopter            10.000000   \n",
       "1          Dispatch Rate             0.830742   \n",
       "2       Cancelation Rate             0.075988   \n",
       "3          Response Rate             0.754656   \n",
       "4            Utilization             1.828219   \n",
       "5  Average Response Time             0.587161   \n",
       "\n",
       "   Optimal Helicopters Plus Additional Base  \n",
       "0                                 11.000000  \n",
       "1                                  0.839286  \n",
       "2                                  0.077818  \n",
       "3                                  0.761459  \n",
       "4                                  1.654795  \n",
       "5                                  0.568516  "
      ]
     },
     "execution_count": 85,
     "metadata": {},
     "output_type": "execute_result"
    }
   ],
   "source": [
    "stats_names = [\"Number of Helicopter\",\"Dispatch Rate\",\"Cancelation Rate\",\"Response Rate\",\"Utilization\",'Average Response Time']\n",
    "optimal10_stats = get_stats(optimal10[0])\n",
    "optimal10_plus_stats = get_stats(optimal10_plus[0])\n",
    "optimal_compare = pd.DataFrame({\"\":stats_names, \"Optimal Helicopters\": optimal10_stats, \"Optimal Helicopters Plus Additional Base\":optimal10_plus_stats})\n",
    "optimal_compare"
   ]
  },
  {
   "cell_type": "markdown",
   "metadata": {},
   "source": [
    "# Sensitivity Analysis"
   ]
  },
  {
   "cell_type": "code",
   "execution_count": 102,
   "metadata": {},
   "outputs": [],
   "source": [
    "#Optimal placement for 5 and 12 helicopters from above:\n",
    "\n",
    "#Overall optimal solution; uses 11 helicopters\n",
    "optimal_base_locs= [\n",
    "    [42.6526, 73.7562],\n",
    "    [42.6526, 73.7562],\n",
    "    [43.1566, 77.6088],\n",
    "    [43.0481, 76.1474],\n",
    "    [43.0481, 76.1474],\n",
    "    [43.0481, 76.1474],\n",
    "    [43.0481, 76.1474],\n",
    "    [42.8864, 78.8784],\n",
    "    [42.8864, 78.8784],\n",
    "    [42.0987, 75.918],\n",
    "    [43.9748, 75.9108],\n",
    "]\n",
    "\n",
    "#Optimal solution for 5 helicopters\n",
    "optimal_5_base_locs= [\n",
    "    [42.6526, 73.7562],\n",
    "    [43.1566, 77.6088],\n",
    "    [43.0481, 76.1474],\n",
    "    [43.0481, 76.1474],\n",
    "    [42.0987, 75.918],\n",
    "]\n",
    "\n",
    "#Optimal solution for 12 helicopters\n",
    "optimal_12_base_locs= [\n",
    "    [42.6526, 73.7562],\n",
    "    [42.6526, 73.7562],\n",
    "    [42.6526, 73.7562],\n",
    "    [43.1566, 77.6088],\n",
    "    [43.0481, 76.1474],\n",
    "    [43.0481, 76.1474],\n",
    "    [43.0481, 76.1474],\n",
    "    [43.0481, 76.1474],\n",
    "    [42.8864, 78.8784],\n",
    "    [42.8864, 78.8784],\n",
    "    [42.0987, 75.918],\n",
    "    [42.0987, 75.918],\n",
    "]"
   ]
  },
  {
   "cell_type": "markdown",
   "metadata": {},
   "source": [
    "### Changing Call Arrival Rate"
   ]
  },
  {
   "cell_type": "code",
   "execution_count": 103,
   "metadata": {},
   "outputs": [],
   "source": [
    "#Original with 12 helicopters optimally assigned from above\n",
    "original_12= simulate(optimal_12_base_locs, 365*24+10, 10, 26, 0.975)\n",
    "original_5= simulate(optimal_5_base_locs, 365*24+10, 10, 26, 0.975)\n",
    "original_= simulate(optimal_base_locs, 365*24+10, 10, 26, 0.975)\n",
    "\n",
    "#decrease call rates by 20%\n",
    "for i in range(24):\n",
    "    val= call_rates[i+1]\n",
    "    call_rates.update({i+1:val*0.8})\n",
    "increase_12_arr_20= simulate(optimal_12_base_locs, 365*24+10, 10, 26, 0.975)\n",
    "increase_5_arr_20= simulate(optimal_5_base_locs, 365*24+10, 10, 26, 0.975)\n",
    "increase_opt_arr_20= simulate(optimal_base_locs, 365*24+10, 10, 26, 0.975)\n",
    "\n",
    "#Increase call rates by 20%\n",
    "for i in range(24):\n",
    "    val= call_rates[i+1]\n",
    "    call_rates.update({i+1:val*1.2/0.8})\n",
    "decrease_12_arr_20= simulate(optimal_12_base_locs, 365*24+10, 10, 26, 0.975)\n",
    "decrease_5_arr_20= simulate(optimal_5_base_locs, 365*24+10, 10, 26, 0.975)\n",
    "decrease_opt_arr_20= simulate(optimal_base_locs, 365*24+10, 10, 26, 0.975)\n",
    "\n",
    "#Reset call rates\n",
    "for i in range(24):\n",
    "    val= call_rates[i+1]\n",
    "    call_rates.update({i+1:val/1.2})"
   ]
  },
  {
   "cell_type": "markdown",
   "metadata": {},
   "source": [
    "#### With Optimal Solution of 11 Helicopters"
   ]
  },
  {
   "cell_type": "code",
   "execution_count": 105,
   "metadata": {
    "scrolled": true
   },
   "outputs": [
    {
     "data": {
      "text/plain": [
       "[('Dispatch Rate', [0.8544704590694735, 0.8585193622186452]),\n",
       " ('Cancel Rate', [0.0757923522126493, 0.07737272932596548]),\n",
       " ('Response Rate', [0.7779465163382413, 0.78221686894884]),\n",
       " ('Utilization of Helicopters', [1.7408067505933886, 1.7690313565049929]),\n",
       " ('Average Response Time', [0.5689976199833628, 0.5717254981504474])]"
      ]
     },
     "execution_count": 105,
     "metadata": {},
     "output_type": "execute_result"
    }
   ],
   "source": [
    "original_[0]"
   ]
  },
  {
   "cell_type": "code",
   "execution_count": 106,
   "metadata": {},
   "outputs": [
    {
     "data": {
      "text/plain": [
       "[('Dispatch Rate', [0.8365750608005669, 0.8390705477789095]),\n",
       " ('Cancel Rate', [0.0753520927655983, 0.07712461800162539]),\n",
       " ('Response Rate', [0.759719523231184, 0.7634821618517049]),\n",
       " ('Utilization of Helicopters', [2.2325772668639527, 2.2565883620277014]),\n",
       " ('Average Response Time', [0.5891871582860956, 0.5914874206338158])]"
      ]
     },
     "execution_count": 106,
     "metadata": {},
     "output_type": "execute_result"
    }
   ],
   "source": [
    "increase_opt_arr_20[0]"
   ]
  },
  {
   "cell_type": "code",
   "execution_count": 107,
   "metadata": {},
   "outputs": [
    {
     "data": {
      "text/plain": [
       "[('Dispatch Rate', [0.8606989657769198, 0.8632957977029169]),\n",
       " ('Cancel Rate', [0.0696222670688757, 0.07185614597752504]),\n",
       " ('Response Rate', [0.7896903127972178, 0.792873720341769]),\n",
       " ('Utilization of Helicopters', [1.414675263022556, 1.4311528814357253]),\n",
       " ('Average Response Time', [0.5618066645445955, 0.5645414575306434])]"
      ]
     },
     "execution_count": 107,
     "metadata": {},
     "output_type": "execute_result"
    }
   ],
   "source": [
    "decrease_opt_arr_20[0]"
   ]
  },
  {
   "cell_type": "markdown",
   "metadata": {},
   "source": [
    "#### With 12 Helicopters"
   ]
  },
  {
   "cell_type": "code",
   "execution_count": 108,
   "metadata": {
    "scrolled": false
   },
   "outputs": [
    {
     "data": {
      "text/plain": [
       "[('Dispatch Rate', [0.8635679514059419, 0.8667545628621148]),\n",
       " ('Cancel Rate', [0.07537500646435287, 0.07707780350324044]),\n",
       " ('Response Rate', [0.7872825675630599, 0.7904365942843401]),\n",
       " ('Utilization of Helicopters', [1.6104903199405514, 1.6315188124795408]),\n",
       " ('Average Response Time', [0.5693380436183493, 0.570995400152988])]"
      ]
     },
     "execution_count": 108,
     "metadata": {},
     "output_type": "execute_result"
    }
   ],
   "source": [
    "original_12[0]"
   ]
  },
  {
   "cell_type": "code",
   "execution_count": 109,
   "metadata": {},
   "outputs": [
    {
     "data": {
      "text/plain": [
       "[('Dispatch Rate', [0.8504046049704271, 0.8529696185073724]),\n",
       " ('Cancel Rate', [0.08195743304390367, 0.08405450625613732]),\n",
       " ('Response Rate', [0.7670708229548776, 0.7701963859618407]),\n",
       " ('Utilization of Helicopters', [2.0024112545297768, 2.0204197956985337]),\n",
       " ('Average Response Time', [0.5818145692220535, 0.5843255040333886])]"
      ]
     },
     "execution_count": 109,
     "metadata": {},
     "output_type": "execute_result"
    }
   ],
   "source": [
    "increase_12_arr_20[0]"
   ]
  },
  {
   "cell_type": "code",
   "execution_count": 110,
   "metadata": {},
   "outputs": [
    {
     "data": {
      "text/plain": [
       "[('Dispatch Rate', [0.8738299815243262, 0.8763893443826734]),\n",
       " ('Cancel Rate', [0.07848685557089098, 0.08106036008159843]),\n",
       " ('Response Rate', [0.7939084550755392, 0.7968003963631946]),\n",
       " ('Utilization of Helicopters', [1.3344796461309665, 1.3504518607183487]),\n",
       " ('Average Response Time', [0.5711426020934655, 0.5736021968949937])]"
      ]
     },
     "execution_count": 110,
     "metadata": {},
     "output_type": "execute_result"
    }
   ],
   "source": [
    "decrease_12_arr_20[0]"
   ]
  },
  {
   "cell_type": "markdown",
   "metadata": {},
   "source": [
    "#### With 5 helicopters"
   ]
  },
  {
   "cell_type": "code",
   "execution_count": 111,
   "metadata": {},
   "outputs": [
    {
     "data": {
      "text/plain": [
       "[('Dispatch Rate', [0.6674729845176479, 0.6714721538676007]),\n",
       " ('Cancel Rate', [0.07082691435402189, 0.07305931580258668]),\n",
       " ('Response Rate', [0.5953908674023741, 0.5999161585251643]),\n",
       " ('Utilization of Helicopters', [2.8725734043536635, 2.9104402942764738]),\n",
       " ('Average Response Time', [0.6779705018728434, 0.6821605716844591])]"
      ]
     },
     "execution_count": 111,
     "metadata": {},
     "output_type": "execute_result"
    }
   ],
   "source": [
    "original_5[0]"
   ]
  },
  {
   "cell_type": "code",
   "execution_count": 112,
   "metadata": {},
   "outputs": [
    {
     "data": {
      "text/plain": [
       "[('Dispatch Rate', [0.6274199659090585, 0.6318211614316269]),\n",
       " ('Cancel Rate', [0.07013360762113448, 0.07195750119982962]),\n",
       " ('Response Rate', [0.5564639547602879, 0.5606535837716282]),\n",
       " ('Utilization of Helicopters', [3.5299377183461087, 3.564856802201836]),\n",
       " ('Average Response Time', [0.6864377683244333, 0.6895816363490305])]"
      ]
     },
     "execution_count": 112,
     "metadata": {},
     "output_type": "execute_result"
    }
   ],
   "source": [
    "increase_5_arr_20[0]"
   ]
  },
  {
   "cell_type": "code",
   "execution_count": 113,
   "metadata": {},
   "outputs": [
    {
     "data": {
      "text/plain": [
       "[('Dispatch Rate', [0.8738299815243262, 0.8763893443826734]),\n",
       " ('Cancel Rate', [0.07848685557089098, 0.08106036008159843]),\n",
       " ('Response Rate', [0.7939084550755392, 0.7968003963631946]),\n",
       " ('Utilization of Helicopters', [1.3344796461309665, 1.3504518607183487]),\n",
       " ('Average Response Time', [0.5711426020934655, 0.5736021968949937])]"
      ]
     },
     "execution_count": 113,
     "metadata": {},
     "output_type": "execute_result"
    }
   ],
   "source": [
    "decrease_12_arr_20[0]"
   ]
  },
  {
   "cell_type": "markdown",
   "metadata": {},
   "source": [
    "### Changing Hospital and Scene Times to Beta Distribution with Same Mean and Variance"
   ]
  },
  {
   "cell_type": "markdown",
   "metadata": {},
   "source": [
    "#### Using optimal solution of 11 helicopters"
   ]
  },
  {
   "cell_type": "code",
   "execution_count": 114,
   "metadata": {},
   "outputs": [],
   "source": [
    "#Should be using opt helicopters here\n",
    "#if no params inputted for hosp and scene, we use gamma dist for both\n",
    "sim_beta_hosp= simulate(optimal_base_locs, 365*24+10, 10, 26, 0.975,hosp=\"beta\")\n",
    "sim_beta_scene= simulate(optimal_base_locs, 365*24+10, 10, 26, 0.975,scene=\"beta\")\n",
    "sim_beta_hosp_and_scene= simulate(optimal_base_locs, 365*24+10, 10, 26, 0.975,hosp= \"beta\",scene=\"beta\")"
   ]
  },
  {
   "cell_type": "code",
   "execution_count": 115,
   "metadata": {},
   "outputs": [
    {
     "data": {
      "text/plain": [
       "[('Dispatch Rate', [0.8544704590694735, 0.8585193622186452]),\n",
       " ('Cancel Rate', [0.0757923522126493, 0.07737272932596548]),\n",
       " ('Response Rate', [0.7779465163382413, 0.78221686894884]),\n",
       " ('Utilization of Helicopters', [1.7408067505933886, 1.7690313565049929]),\n",
       " ('Average Response Time', [0.5689976199833628, 0.5717254981504474])]"
      ]
     },
     "execution_count": 115,
     "metadata": {},
     "output_type": "execute_result"
    }
   ],
   "source": [
    "#Both gamma\n",
    "original_[0]"
   ]
  },
  {
   "cell_type": "code",
   "execution_count": 116,
   "metadata": {},
   "outputs": [
    {
     "data": {
      "text/plain": [
       "[('Dispatch Rate', [0.8511858513436702, 0.8539834884998881]),\n",
       " ('Cancel Rate', [0.07719457013735691, 0.07962614658730278]),\n",
       " ('Response Rate', [0.7724326584480843, 0.7758342557357953]),\n",
       " ('Utilization of Helicopters', [1.6863046694614292, 1.7099593405012108]),\n",
       " ('Average Response Time', [0.5695315610429252, 0.5720663017459082])]"
      ]
     },
     "execution_count": 116,
     "metadata": {},
     "output_type": "execute_result"
    }
   ],
   "source": [
    "#Hospital times are beta\n",
    "sim_beta_hosp[0]"
   ]
  },
  {
   "cell_type": "code",
   "execution_count": 117,
   "metadata": {},
   "outputs": [
    {
     "data": {
      "text/plain": [
       "[('Dispatch Rate', [0.85642452449967, 0.8597772764734626]),\n",
       " ('Cancel Rate', [0.0741733766486581, 0.07610620660671867]),\n",
       " ('Response Rate', [0.7810973929686741, 0.7848052785741545]),\n",
       " ('Utilization of Helicopters', [1.688675287972651, 1.7115737780298392]),\n",
       " ('Average Response Time', [0.574257437450843, 0.5769365416749835])]"
      ]
     },
     "execution_count": 117,
     "metadata": {},
     "output_type": "execute_result"
    }
   ],
   "source": [
    "#Scene times are beta\n",
    "sim_beta_scene[0]"
   ]
  },
  {
   "cell_type": "code",
   "execution_count": 118,
   "metadata": {},
   "outputs": [
    {
     "data": {
      "text/plain": [
       "[('Dispatch Rate', [0.8591308445207747, 0.8621451876540905]),\n",
       " ('Cancel Rate', [0.07342642584246034, 0.07594912138207147]),\n",
       " ('Response Rate', [0.7839506339678038, 0.7879712515488894]),\n",
       " ('Utilization of Helicopters', [1.752310137001422, 1.7724719302463978]),\n",
       " ('Average Response Time', [0.573886794249847, 0.5762171172189184])]"
      ]
     },
     "execution_count": 118,
     "metadata": {},
     "output_type": "execute_result"
    }
   ],
   "source": [
    "#Hospital and scene times are beta\n",
    "sim_beta_hosp_and_scene[0]"
   ]
  }
 ],
 "metadata": {
  "colab": {
   "collapsed_sections": [],
   "name": "Project.ipynb",
   "provenance": []
  },
  "kernelspec": {
   "display_name": "Python 3",
   "language": "python",
   "name": "python3"
  },
  "language_info": {
   "codemirror_mode": {
    "name": "ipython",
    "version": 3
   },
   "file_extension": ".py",
   "mimetype": "text/x-python",
   "name": "python",
   "nbconvert_exporter": "python",
   "pygments_lexer": "ipython3",
   "version": "3.8.5"
  }
 },
 "nbformat": 4,
 "nbformat_minor": 1
}
